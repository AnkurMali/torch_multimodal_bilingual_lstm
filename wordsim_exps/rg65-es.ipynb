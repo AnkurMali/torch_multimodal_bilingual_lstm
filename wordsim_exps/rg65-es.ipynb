{
 "cells": [
  {
   "cell_type": "code",
   "execution_count": 1,
   "id": "e12c90a1-7a50-470f-b9ae-dd5d43ebe714",
   "metadata": {},
   "outputs": [],
   "source": [
    "import pandas as pd\n",
    "df = pd.read_csv('./data/rg65_spanish.txt', delimiter =  \"\\t\", header = None)\n",
    "df.columns = ['word1', 'word2', 'org_sim']"
   ]
  },
  {
   "cell_type": "code",
   "execution_count": 2,
   "id": "f1340a9e-3e62-4a6e-b4bf-41f2345dc67d",
   "metadata": {},
   "outputs": [],
   "source": [
    "# df['org_sim'] = df['org_sim'] / 4"
   ]
  },
  {
   "cell_type": "code",
   "execution_count": 3,
   "id": "dcbe8c66-1482-408e-8025-c371bfdea7cb",
   "metadata": {},
   "outputs": [],
   "source": [
    "# mm_model_path = 'multimodal_lstm_200000_1.0_15v6'#'multimodal_lstm_200000_1.0_15v5'##'multimodal_lstm_200000_0.7071067811865475_15v2'\n",
    "# bm_model_path = 'benchmark_model_200000_1.0_15v7'#benchmark_model_200000_1.0_15v6'#'benchmark_model_200000_0.7071067811865475_15v4'"
   ]
  },
  {
   "cell_type": "code",
   "execution_count": 4,
   "id": "f45c1cb6-b31c-497a-b933-029e6cb45c45",
   "metadata": {},
   "outputs": [],
   "source": [
    "mm_model_path = \"finetuned_multimodal_lstm\"#'multimodal_lstm_200000_1.0_15v6'#'multimodal_lstm_200000_1.0_15v5'##'multimodal_lstm_200000_0.7071067811865475_15v2'\n",
    "bm_model_path = 'finetuned_benchmark_lstm'#benchmark_model_200000_1.0_15v6'#'benchmark_model_200000_0.7071067811865475_15v4'"
   ]
  },
  {
   "cell_type": "code",
   "execution_count": 5,
   "id": "8b662e6b-44df-4fc7-936c-f636ea8d7381",
   "metadata": {},
   "outputs": [],
   "source": [
    "import torch\n",
    "device = 'cuda' if torch.cuda.is_available() else \"gpu\"\n",
    "from multimodal_model import BenchmarkLSTM, MMLSTM\n",
    "from multi_bpe import MultiBPE\n",
    "multi_bpe = MultiBPE()\n",
    "def load_model(loaded_model, is_benchmark, is_multimodal, train_visual_module):\n",
    "    if is_benchmark:\n",
    "        mm_model = BenchmarkLSTM().to(device)\n",
    "    else:\n",
    "        mm_model = MMLSTM(is_multimodal=is_multimodal,\n",
    "                     train_visual_module=train_visual_module).to(device)\n",
    "    \n",
    "    mm_model.load_state_dict(torch.load(f'./saved_models/{loaded_model}'))\n",
    "    mm_model.eval()\n",
    "    return mm_model\n",
    "\n",
    "mm_model = load_model(mm_model_path, False, True, False)\n",
    "bm_model = load_model(bm_model_path, True, False, False)"
   ]
  },
  {
   "cell_type": "code",
   "execution_count": 6,
   "id": "0f2c16a9-43e0-4ca6-97b9-a112fedadcb2",
   "metadata": {},
   "outputs": [],
   "source": [
    "def cosine_score(w1, w2, model, name='emb_layer.weight'):\n",
    "    tcs = torch.nn.CosineSimilarity(dim=1)\n",
    "    e1 = multi_bpe.encode(w1, False, False, None)\n",
    "    e2 = multi_bpe.encode(w2, False, False, None)\n",
    "    if len(e1) > 1 or len(e2) > 1:\n",
    "        a = model.state_dict()[name][e1[0]]\n",
    "        for idx in e1[1:]:\n",
    "            a = torch.concat((a, model.state_dict()[name][idx]))\n",
    "        b = model.state_dict()[name][e2[0]]\n",
    "        for idx in e2[1:]:\n",
    "            b = torch.concat((b, model.state_dict()[name][idx]))\n",
    "        return 999\n",
    "        return tcs(torch.tensor(a).view(1,-1),torch.tensor(b).view(1,-1)).item()\n",
    "    else:\n",
    "        a = model.state_dict()[name][e1[0]]\n",
    "        b = model.state_dict()[name][e2[0]]\n",
    "        return tcs(torch.tensor(a).view(1,-1),torch.tensor(b).view(1,-1)).item()\n",
    "\n",
    "def cosine_sim_model(df, model, name):\n",
    "    l = []    \n",
    "    for i in range(len(df)):\n",
    "        w1, w2 = df.word1[i], df.word2[i]\n",
    "        l.append(cosine_score(w1, w2, model, name))\n",
    "    return l"
   ]
  },
  {
   "cell_type": "code",
   "execution_count": 7,
   "id": "9a45f3fb-31f0-43cc-a86b-1720c85c4b84",
   "metadata": {},
   "outputs": [
    {
     "name": "stderr",
     "output_type": "stream",
     "text": [
      "<ipython-input-6-b642a3c19c31>:17: UserWarning: To copy construct from a tensor, it is recommended to use sourceTensor.clone().detach() or sourceTensor.clone().detach().requires_grad_(True), rather than torch.tensor(sourceTensor).\n",
      "  return tcs(torch.tensor(a).view(1,-1),torch.tensor(b).view(1,-1)).item()\n",
      "<ipython-input-6-b642a3c19c31>:17: UserWarning: To copy construct from a tensor, it is recommended to use sourceTensor.clone().detach() or sourceTensor.clone().detach().requires_grad_(True), rather than torch.tensor(sourceTensor).\n",
      "  return tcs(torch.tensor(a).view(1,-1),torch.tensor(b).view(1,-1)).item()\n"
     ]
    }
   ],
   "source": [
    "df['bm_sim'] = cosine_sim_model(df, bm_model, 'fc.weight')\n",
    "df['mm_sim'] = cosine_sim_model(df, mm_model, 'fc.weight')"
   ]
  },
  {
   "cell_type": "code",
   "execution_count": 8,
   "id": "31264469-7330-4dcd-a26b-0344a0d3193b",
   "metadata": {},
   "outputs": [
    {
     "data": {
      "text/html": [
       "<div>\n",
       "<style scoped>\n",
       "    .dataframe tbody tr th:only-of-type {\n",
       "        vertical-align: middle;\n",
       "    }\n",
       "\n",
       "    .dataframe tbody tr th {\n",
       "        vertical-align: top;\n",
       "    }\n",
       "\n",
       "    .dataframe thead th {\n",
       "        text-align: right;\n",
       "    }\n",
       "</style>\n",
       "<table border=\"1\" class=\"dataframe\">\n",
       "  <thead>\n",
       "    <tr style=\"text-align: right;\">\n",
       "      <th></th>\n",
       "      <th>word1</th>\n",
       "      <th>word2</th>\n",
       "      <th>org_sim</th>\n",
       "      <th>bm_sim</th>\n",
       "      <th>mm_sim</th>\n",
       "    </tr>\n",
       "  </thead>\n",
       "  <tbody>\n",
       "    <tr>\n",
       "      <th>0</th>\n",
       "      <td>gallo</td>\n",
       "      <td>viaje</td>\n",
       "      <td>0.04</td>\n",
       "      <td>0.826047</td>\n",
       "      <td>0.838862</td>\n",
       "    </tr>\n",
       "    <tr>\n",
       "      <th>1</th>\n",
       "      <td>fruta</td>\n",
       "      <td>caldera</td>\n",
       "      <td>0.21</td>\n",
       "      <td>0.877928</td>\n",
       "      <td>0.897251</td>\n",
       "    </tr>\n",
       "    <tr>\n",
       "      <th>2</th>\n",
       "      <td>chico</td>\n",
       "      <td>gallo</td>\n",
       "      <td>0.29</td>\n",
       "      <td>0.866872</td>\n",
       "      <td>0.819806</td>\n",
       "    </tr>\n",
       "    <tr>\n",
       "      <th>3</th>\n",
       "      <td>vaso</td>\n",
       "      <td>mago</td>\n",
       "      <td>0.08</td>\n",
       "      <td>0.869517</td>\n",
       "      <td>0.861246</td>\n",
       "    </tr>\n",
       "    <tr>\n",
       "      <th>4</th>\n",
       "      <td>costa</td>\n",
       "      <td>bosque</td>\n",
       "      <td>1.17</td>\n",
       "      <td>0.898962</td>\n",
       "      <td>0.914182</td>\n",
       "    </tr>\n",
       "    <tr>\n",
       "      <th>5</th>\n",
       "      <td>chico</td>\n",
       "      <td>sabio</td>\n",
       "      <td>0.79</td>\n",
       "      <td>0.862871</td>\n",
       "      <td>0.817291</td>\n",
       "    </tr>\n",
       "    <tr>\n",
       "      <th>6</th>\n",
       "      <td>selva</td>\n",
       "      <td>cementerio</td>\n",
       "      <td>0.38</td>\n",
       "      <td>0.882334</td>\n",
       "      <td>0.918193</td>\n",
       "    </tr>\n",
       "    <tr>\n",
       "      <th>7</th>\n",
       "      <td>comida</td>\n",
       "      <td>gallo</td>\n",
       "      <td>1.54</td>\n",
       "      <td>0.775237</td>\n",
       "      <td>0.823091</td>\n",
       "    </tr>\n",
       "    <tr>\n",
       "      <th>8</th>\n",
       "      <td>cementerio</td>\n",
       "      <td>bosque</td>\n",
       "      <td>0.79</td>\n",
       "      <td>0.912350</td>\n",
       "      <td>0.909964</td>\n",
       "    </tr>\n",
       "    <tr>\n",
       "      <th>9</th>\n",
       "      <td>costa</td>\n",
       "      <td>colina</td>\n",
       "      <td>1.50</td>\n",
       "      <td>0.914837</td>\n",
       "      <td>0.916587</td>\n",
       "    </tr>\n",
       "    <tr>\n",
       "      <th>10</th>\n",
       "      <td>caldera</td>\n",
       "      <td>instrumento</td>\n",
       "      <td>1.04</td>\n",
       "      <td>0.913210</td>\n",
       "      <td>0.882301</td>\n",
       "    </tr>\n",
       "    <tr>\n",
       "      <th>11</th>\n",
       "      <td>colina</td>\n",
       "      <td>bosque</td>\n",
       "      <td>1.67</td>\n",
       "      <td>0.979067</td>\n",
       "      <td>0.983088</td>\n",
       "    </tr>\n",
       "    <tr>\n",
       "      <th>12</th>\n",
       "      <td>coche</td>\n",
       "      <td>viaje</td>\n",
       "      <td>1.92</td>\n",
       "      <td>0.904860</td>\n",
       "      <td>0.844532</td>\n",
       "    </tr>\n",
       "    <tr>\n",
       "      <th>13</th>\n",
       "      <td>cementerio</td>\n",
       "      <td>loma</td>\n",
       "      <td>0.75</td>\n",
       "      <td>0.876670</td>\n",
       "      <td>0.874949</td>\n",
       "    </tr>\n",
       "    <tr>\n",
       "      <th>14</th>\n",
       "      <td>comida</td>\n",
       "      <td>fruta</td>\n",
       "      <td>2.92</td>\n",
       "      <td>0.863105</td>\n",
       "      <td>0.878057</td>\n",
       "    </tr>\n",
       "    <tr>\n",
       "      <th>15</th>\n",
       "      <td>colina</td>\n",
       "      <td>loma</td>\n",
       "      <td>3.75</td>\n",
       "      <td>0.985210</td>\n",
       "      <td>0.980536</td>\n",
       "    </tr>\n",
       "    <tr>\n",
       "      <th>16</th>\n",
       "      <td>selva</td>\n",
       "      <td>bosque</td>\n",
       "      <td>3.21</td>\n",
       "      <td>0.892937</td>\n",
       "      <td>0.923410</td>\n",
       "    </tr>\n",
       "    <tr>\n",
       "      <th>17</th>\n",
       "      <td>cementerio</td>\n",
       "      <td>cementerio</td>\n",
       "      <td>4.00</td>\n",
       "      <td>1.000000</td>\n",
       "      <td>1.000000</td>\n",
       "    </tr>\n",
       "  </tbody>\n",
       "</table>\n",
       "</div>"
      ],
      "text/plain": [
       "         word1        word2  org_sim    bm_sim    mm_sim\n",
       "0        gallo        viaje     0.04  0.826047  0.838862\n",
       "1        fruta      caldera     0.21  0.877928  0.897251\n",
       "2        chico        gallo     0.29  0.866872  0.819806\n",
       "3         vaso         mago     0.08  0.869517  0.861246\n",
       "4        costa       bosque     1.17  0.898962  0.914182\n",
       "5        chico        sabio     0.79  0.862871  0.817291\n",
       "6        selva   cementerio     0.38  0.882334  0.918193\n",
       "7       comida        gallo     1.54  0.775237  0.823091\n",
       "8   cementerio       bosque     0.79  0.912350  0.909964\n",
       "9        costa       colina     1.50  0.914837  0.916587\n",
       "10     caldera  instrumento     1.04  0.913210  0.882301\n",
       "11      colina       bosque     1.67  0.979067  0.983088\n",
       "12       coche        viaje     1.92  0.904860  0.844532\n",
       "13  cementerio         loma     0.75  0.876670  0.874949\n",
       "14      comida        fruta     2.92  0.863105  0.878057\n",
       "15      colina         loma     3.75  0.985210  0.980536\n",
       "16       selva       bosque     3.21  0.892937  0.923410\n",
       "17  cementerio   cementerio     4.00  1.000000  1.000000"
      ]
     },
     "execution_count": 8,
     "metadata": {},
     "output_type": "execute_result"
    }
   ],
   "source": [
    "df = df[df.bm_sim != 999].reset_index(drop=True)\n",
    "df"
   ]
  },
  {
   "cell_type": "code",
   "execution_count": 9,
   "id": "84df0991-d861-47f9-9ddb-9e231f9c71de",
   "metadata": {},
   "outputs": [
    {
     "data": {
      "text/html": [
       "<div>\n",
       "<style scoped>\n",
       "    .dataframe tbody tr th:only-of-type {\n",
       "        vertical-align: middle;\n",
       "    }\n",
       "\n",
       "    .dataframe tbody tr th {\n",
       "        vertical-align: top;\n",
       "    }\n",
       "\n",
       "    .dataframe thead th {\n",
       "        text-align: right;\n",
       "    }\n",
       "</style>\n",
       "<table border=\"1\" class=\"dataframe\">\n",
       "  <thead>\n",
       "    <tr style=\"text-align: right;\">\n",
       "      <th></th>\n",
       "      <th>org_sim</th>\n",
       "      <th>bm_sim</th>\n",
       "      <th>mm_sim</th>\n",
       "    </tr>\n",
       "  </thead>\n",
       "  <tbody>\n",
       "    <tr>\n",
       "      <th>org_sim</th>\n",
       "      <td>1.000000</td>\n",
       "      <td>0.558360</td>\n",
       "      <td>0.603707</td>\n",
       "    </tr>\n",
       "    <tr>\n",
       "      <th>bm_sim</th>\n",
       "      <td>0.558360</td>\n",
       "      <td>1.000000</td>\n",
       "      <td>0.860628</td>\n",
       "    </tr>\n",
       "    <tr>\n",
       "      <th>mm_sim</th>\n",
       "      <td>0.603707</td>\n",
       "      <td>0.860628</td>\n",
       "      <td>1.000000</td>\n",
       "    </tr>\n",
       "  </tbody>\n",
       "</table>\n",
       "</div>"
      ],
      "text/plain": [
       "          org_sim    bm_sim    mm_sim\n",
       "org_sim  1.000000  0.558360  0.603707\n",
       "bm_sim   0.558360  1.000000  0.860628\n",
       "mm_sim   0.603707  0.860628  1.000000"
      ]
     },
     "execution_count": 9,
     "metadata": {},
     "output_type": "execute_result"
    }
   ],
   "source": [
    "df.corr(method='pearson')"
   ]
  },
  {
   "cell_type": "code",
   "execution_count": 10,
   "id": "7e4644a2-3261-43da-a5a6-0022deb0d848",
   "metadata": {},
   "outputs": [
    {
     "data": {
      "text/html": [
       "<div>\n",
       "<style scoped>\n",
       "    .dataframe tbody tr th:only-of-type {\n",
       "        vertical-align: middle;\n",
       "    }\n",
       "\n",
       "    .dataframe tbody tr th {\n",
       "        vertical-align: top;\n",
       "    }\n",
       "\n",
       "    .dataframe thead th {\n",
       "        text-align: right;\n",
       "    }\n",
       "</style>\n",
       "<table border=\"1\" class=\"dataframe\">\n",
       "  <thead>\n",
       "    <tr style=\"text-align: right;\">\n",
       "      <th></th>\n",
       "      <th>n</th>\n",
       "      <th>r</th>\n",
       "      <th>CI95%</th>\n",
       "      <th>p-val</th>\n",
       "    </tr>\n",
       "  </thead>\n",
       "  <tbody>\n",
       "    <tr>\n",
       "      <th>pearson</th>\n",
       "      <td>18</td>\n",
       "      <td>0.291545</td>\n",
       "      <td>[-0.22, 0.68]</td>\n",
       "      <td>0.25621</td>\n",
       "    </tr>\n",
       "  </tbody>\n",
       "</table>\n",
       "</div>"
      ],
      "text/plain": [
       "          n         r          CI95%    p-val\n",
       "pearson  18  0.291545  [-0.22, 0.68]  0.25621"
      ]
     },
     "execution_count": 10,
     "metadata": {},
     "output_type": "execute_result"
    }
   ],
   "source": [
    "import pingouin as pg\n",
    "\n",
    "#find partial correlation between hours and exam score while controlling for grade\n",
    "pg.partial_corr(data=df, x='mm_sim', y='org_sim', covar='bm_sim')"
   ]
  },
  {
   "cell_type": "code",
   "execution_count": 11,
   "id": "073a2bd5-98ee-4239-bf26-1ded7ea865ad",
   "metadata": {},
   "outputs": [
    {
     "data": {
      "text/plain": [
       "0.033482046361"
      ]
     },
     "execution_count": 11,
     "metadata": {},
     "output_type": "execute_result"
    }
   ],
   "source": [
    "00.182981**2"
   ]
  },
  {
   "cell_type": "code",
   "execution_count": 12,
   "id": "aa79a2f2-b636-4e76-b8b7-963e65839311",
   "metadata": {},
   "outputs": [
    {
     "data": {
      "text/plain": [
       "0.141320357476"
      ]
     },
     "execution_count": 12,
     "metadata": {},
     "output_type": "execute_result"
    }
   ],
   "source": [
    "0.375926**2"
   ]
  },
  {
   "cell_type": "code",
   "execution_count": 13,
   "id": "3ea6f7bc-81aa-429c-b8b6-df534cc609fc",
   "metadata": {},
   "outputs": [
    {
     "data": {
      "text/plain": [
       "0.30761110912899997"
      ]
     },
     "execution_count": 13,
     "metadata": {},
     "output_type": "execute_result"
    }
   ],
   "source": [
    "0.554627**2"
   ]
  },
  {
   "cell_type": "code",
   "execution_count": null,
   "id": "78dcba7e-79aa-4f21-b6e6-28c62b5b3a7c",
   "metadata": {},
   "outputs": [],
   "source": []
  }
 ],
 "metadata": {
  "kernelspec": {
   "display_name": "Python 3",
   "language": "python",
   "name": "python3"
  },
  "language_info": {
   "codemirror_mode": {
    "name": "ipython",
    "version": 3
   },
   "file_extension": ".py",
   "mimetype": "text/x-python",
   "name": "python",
   "nbconvert_exporter": "python",
   "pygments_lexer": "ipython3",
   "version": "3.9.12"
  }
 },
 "nbformat": 4,
 "nbformat_minor": 5
}
