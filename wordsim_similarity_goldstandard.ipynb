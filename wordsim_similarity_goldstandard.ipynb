{
 "cells": [
  {
   "cell_type": "code",
   "execution_count": 1,
   "id": "e12c90a1-7a50-470f-b9ae-dd5d43ebe714",
   "metadata": {},
   "outputs": [],
   "source": [
    "import pandas as pd\n",
    "df = pd.read_csv('./data/wordsim_similarity_goldstandard.txt', delimiter = \"\\t\", header=None)\n",
    "df.columns = ['word1', 'word2', 'org_sim']"
   ]
  },
  {
   "cell_type": "code",
   "execution_count": 2,
   "id": "f1340a9e-3e62-4a6e-b4bf-41f2345dc67d",
   "metadata": {},
   "outputs": [
    {
     "data": {
      "text/html": [
       "<div>\n",
       "<style scoped>\n",
       "    .dataframe tbody tr th:only-of-type {\n",
       "        vertical-align: middle;\n",
       "    }\n",
       "\n",
       "    .dataframe tbody tr th {\n",
       "        vertical-align: top;\n",
       "    }\n",
       "\n",
       "    .dataframe thead th {\n",
       "        text-align: right;\n",
       "    }\n",
       "</style>\n",
       "<table border=\"1\" class=\"dataframe\">\n",
       "  <thead>\n",
       "    <tr style=\"text-align: right;\">\n",
       "      <th></th>\n",
       "      <th>word1</th>\n",
       "      <th>word2</th>\n",
       "      <th>org_sim</th>\n",
       "    </tr>\n",
       "  </thead>\n",
       "  <tbody>\n",
       "    <tr>\n",
       "      <th>0</th>\n",
       "      <td>tiger</td>\n",
       "      <td>cat</td>\n",
       "      <td>7.35</td>\n",
       "    </tr>\n",
       "    <tr>\n",
       "      <th>1</th>\n",
       "      <td>tiger</td>\n",
       "      <td>tiger</td>\n",
       "      <td>10.00</td>\n",
       "    </tr>\n",
       "    <tr>\n",
       "      <th>2</th>\n",
       "      <td>plane</td>\n",
       "      <td>car</td>\n",
       "      <td>5.77</td>\n",
       "    </tr>\n",
       "    <tr>\n",
       "      <th>3</th>\n",
       "      <td>train</td>\n",
       "      <td>car</td>\n",
       "      <td>6.31</td>\n",
       "    </tr>\n",
       "    <tr>\n",
       "      <th>4</th>\n",
       "      <td>television</td>\n",
       "      <td>radio</td>\n",
       "      <td>6.77</td>\n",
       "    </tr>\n",
       "    <tr>\n",
       "      <th>...</th>\n",
       "      <td>...</td>\n",
       "      <td>...</td>\n",
       "      <td>...</td>\n",
       "    </tr>\n",
       "    <tr>\n",
       "      <th>198</th>\n",
       "      <td>rooster</td>\n",
       "      <td>voyage</td>\n",
       "      <td>0.62</td>\n",
       "    </tr>\n",
       "    <tr>\n",
       "      <th>199</th>\n",
       "      <td>noon</td>\n",
       "      <td>string</td>\n",
       "      <td>0.54</td>\n",
       "    </tr>\n",
       "    <tr>\n",
       "      <th>200</th>\n",
       "      <td>chord</td>\n",
       "      <td>smile</td>\n",
       "      <td>0.54</td>\n",
       "    </tr>\n",
       "    <tr>\n",
       "      <th>201</th>\n",
       "      <td>professor</td>\n",
       "      <td>cucumber</td>\n",
       "      <td>0.31</td>\n",
       "    </tr>\n",
       "    <tr>\n",
       "      <th>202</th>\n",
       "      <td>king</td>\n",
       "      <td>cabbage</td>\n",
       "      <td>0.23</td>\n",
       "    </tr>\n",
       "  </tbody>\n",
       "</table>\n",
       "<p>203 rows × 3 columns</p>\n",
       "</div>"
      ],
      "text/plain": [
       "          word1     word2  org_sim\n",
       "0         tiger       cat     7.35\n",
       "1         tiger     tiger    10.00\n",
       "2         plane       car     5.77\n",
       "3         train       car     6.31\n",
       "4    television     radio     6.77\n",
       "..          ...       ...      ...\n",
       "198     rooster    voyage     0.62\n",
       "199        noon    string     0.54\n",
       "200       chord     smile     0.54\n",
       "201   professor  cucumber     0.31\n",
       "202        king   cabbage     0.23\n",
       "\n",
       "[203 rows x 3 columns]"
      ]
     },
     "execution_count": 2,
     "metadata": {},
     "output_type": "execute_result"
    }
   ],
   "source": [
    "df"
   ]
  },
  {
   "cell_type": "code",
   "execution_count": 3,
   "id": "dcbe8c66-1482-408e-8025-c371bfdea7cb",
   "metadata": {},
   "outputs": [],
   "source": [
    "# mm_model_path = 'multimodal_lstm_200000_1.0_15v6'#'multimodal_lstm_200000_1.0_15v5'##'multimodal_lstm_200000_0.7071067811865475_15v2'\n",
    "# bm_model_path = 'benchmark_model_200000_1.0_15v7'#benchmark_model_200000_1.0_15v6'#'benchmark_model_200000_0.7071067811865475_15v4'"
   ]
  },
  {
   "cell_type": "code",
   "execution_count": 4,
   "id": "c8d687e2-e3ae-4b5b-8c3d-6a53921c1af9",
   "metadata": {},
   "outputs": [],
   "source": [
    "mm_model_path = \"finetuned_multimodal_lstm\"#'multimodal_lstm_200000_1.0_15v6'#'multimodal_lstm_200000_1.0_15v5'##'multimodal_lstm_200000_0.7071067811865475_15v2'\n",
    "bm_model_path = 'finetuned_benchmark_lstm'#benchmark_model_200000_1.0_15v6'#'benchmark_model_200000_0.7071067811865475_15v4'"
   ]
  },
  {
   "cell_type": "code",
   "execution_count": 5,
   "id": "8b662e6b-44df-4fc7-936c-f636ea8d7381",
   "metadata": {},
   "outputs": [],
   "source": [
    "import torch\n",
    "device = 'cuda' if torch.cuda.is_available() else \"gpu\"\n",
    "from multimodal_model import BenchmarkLSTM, MMLSTM\n",
    "from multi_bpe import MultiBPE\n",
    "multi_bpe = MultiBPE()\n",
    "def load_model(loaded_model, is_benchmark, is_multimodal, train_visual_module):\n",
    "    if is_benchmark:\n",
    "        mm_model = BenchmarkLSTM().to(device)\n",
    "    else:\n",
    "        mm_model = MMLSTM(is_multimodal=is_multimodal,\n",
    "                     train_visual_module=train_visual_module).to(device)\n",
    "    \n",
    "    mm_model.load_state_dict(torch.load(f'./saved_models/{loaded_model}'))\n",
    "    mm_model.eval()\n",
    "    return mm_model\n",
    "\n",
    "mm_model = load_model(mm_model_path, False, True, False)\n",
    "bm_model = load_model(bm_model_path, True, False, False)"
   ]
  },
  {
   "cell_type": "code",
   "execution_count": 6,
   "id": "0f2c16a9-43e0-4ca6-97b9-a112fedadcb2",
   "metadata": {},
   "outputs": [],
   "source": [
    "def cosine_score(w1, w2, model, name='emb_layer.weight'):\n",
    "    tcs = torch.nn.CosineSimilarity(dim=1)\n",
    "    e1 = multi_bpe.encode(w1, False, False, None)\n",
    "    e2 = multi_bpe.encode(w2, False, False, None)\n",
    "    if len(e1) > 1 or len(e2) > 1:\n",
    "        a = model.state_dict()[name][e1[0]]\n",
    "        for idx in e1[1:]:\n",
    "            a = torch.concat((a, model.state_dict()[name][idx]))\n",
    "        b = model.state_dict()[name][e2[0]]\n",
    "        for idx in e2[1:]:\n",
    "            b = torch.concat((b, model.state_dict()[name][idx]))\n",
    "        return 999\n",
    "        return tcs(torch.tensor(a).view(1,-1),torch.tensor(b).view(1,-1)).item()\n",
    "    else:\n",
    "        a = model.state_dict()[name][e1[0]]\n",
    "        b = model.state_dict()[name][e2[0]]\n",
    "        return tcs(torch.tensor(a).view(1,-1),torch.tensor(b).view(1,-1)).item()\n",
    "\n",
    "def cosine_sim_model(df, model, name):\n",
    "    l = []    \n",
    "    for i in range(len(df)):\n",
    "        w1, w2 = df.word1[i], df.word2[i]\n",
    "        l.append(cosine_score(w1, w2, model, name))\n",
    "    return l"
   ]
  },
  {
   "cell_type": "code",
   "execution_count": 7,
   "id": "9a45f3fb-31f0-43cc-a86b-1720c85c4b84",
   "metadata": {},
   "outputs": [
    {
     "name": "stderr",
     "output_type": "stream",
     "text": [
      "<ipython-input-6-b642a3c19c31>:17: UserWarning: To copy construct from a tensor, it is recommended to use sourceTensor.clone().detach() or sourceTensor.clone().detach().requires_grad_(True), rather than torch.tensor(sourceTensor).\n",
      "  return tcs(torch.tensor(a).view(1,-1),torch.tensor(b).view(1,-1)).item()\n",
      "<ipython-input-6-b642a3c19c31>:17: UserWarning: To copy construct from a tensor, it is recommended to use sourceTensor.clone().detach() or sourceTensor.clone().detach().requires_grad_(True), rather than torch.tensor(sourceTensor).\n",
      "  return tcs(torch.tensor(a).view(1,-1),torch.tensor(b).view(1,-1)).item()\n"
     ]
    }
   ],
   "source": [
    "df['bm_sim'] = cosine_sim_model(df, bm_model, 'fc.weight')\n",
    "df['mm_sim'] = cosine_sim_model(df, mm_model, 'fc.weight')"
   ]
  },
  {
   "cell_type": "code",
   "execution_count": 8,
   "id": "31264469-7330-4dcd-a26b-0344a0d3193b",
   "metadata": {},
   "outputs": [
    {
     "data": {
      "text/html": [
       "<div>\n",
       "<style scoped>\n",
       "    .dataframe tbody tr th:only-of-type {\n",
       "        vertical-align: middle;\n",
       "    }\n",
       "\n",
       "    .dataframe tbody tr th {\n",
       "        vertical-align: top;\n",
       "    }\n",
       "\n",
       "    .dataframe thead th {\n",
       "        text-align: right;\n",
       "    }\n",
       "</style>\n",
       "<table border=\"1\" class=\"dataframe\">\n",
       "  <thead>\n",
       "    <tr style=\"text-align: right;\">\n",
       "      <th></th>\n",
       "      <th>word1</th>\n",
       "      <th>word2</th>\n",
       "      <th>org_sim</th>\n",
       "      <th>bm_sim</th>\n",
       "      <th>mm_sim</th>\n",
       "    </tr>\n",
       "  </thead>\n",
       "  <tbody>\n",
       "    <tr>\n",
       "      <th>0</th>\n",
       "      <td>tiger</td>\n",
       "      <td>cat</td>\n",
       "      <td>7.35</td>\n",
       "      <td>0.862202</td>\n",
       "      <td>0.862343</td>\n",
       "    </tr>\n",
       "    <tr>\n",
       "      <th>1</th>\n",
       "      <td>tiger</td>\n",
       "      <td>tiger</td>\n",
       "      <td>10.00</td>\n",
       "      <td>1.000000</td>\n",
       "      <td>1.000000</td>\n",
       "    </tr>\n",
       "    <tr>\n",
       "      <th>2</th>\n",
       "      <td>plane</td>\n",
       "      <td>car</td>\n",
       "      <td>5.77</td>\n",
       "      <td>0.749634</td>\n",
       "      <td>0.745308</td>\n",
       "    </tr>\n",
       "    <tr>\n",
       "      <th>3</th>\n",
       "      <td>train</td>\n",
       "      <td>car</td>\n",
       "      <td>6.31</td>\n",
       "      <td>0.840612</td>\n",
       "      <td>0.737569</td>\n",
       "    </tr>\n",
       "    <tr>\n",
       "      <th>4</th>\n",
       "      <td>television</td>\n",
       "      <td>radio</td>\n",
       "      <td>6.77</td>\n",
       "      <td>0.902639</td>\n",
       "      <td>0.892719</td>\n",
       "    </tr>\n",
       "    <tr>\n",
       "      <th>...</th>\n",
       "      <td>...</td>\n",
       "      <td>...</td>\n",
       "      <td>...</td>\n",
       "      <td>...</td>\n",
       "      <td>...</td>\n",
       "    </tr>\n",
       "    <tr>\n",
       "      <th>155</th>\n",
       "      <td>monk</td>\n",
       "      <td>slave</td>\n",
       "      <td>0.92</td>\n",
       "      <td>0.997177</td>\n",
       "      <td>0.995932</td>\n",
       "    </tr>\n",
       "    <tr>\n",
       "      <th>156</th>\n",
       "      <td>lad</td>\n",
       "      <td>wizard</td>\n",
       "      <td>0.92</td>\n",
       "      <td>0.994547</td>\n",
       "      <td>0.993826</td>\n",
       "    </tr>\n",
       "    <tr>\n",
       "      <th>157</th>\n",
       "      <td>sugar</td>\n",
       "      <td>approach</td>\n",
       "      <td>0.88</td>\n",
       "      <td>0.883906</td>\n",
       "      <td>0.891112</td>\n",
       "    </tr>\n",
       "    <tr>\n",
       "      <th>158</th>\n",
       "      <td>noon</td>\n",
       "      <td>string</td>\n",
       "      <td>0.54</td>\n",
       "      <td>0.866918</td>\n",
       "      <td>0.840501</td>\n",
       "    </tr>\n",
       "    <tr>\n",
       "      <th>159</th>\n",
       "      <td>chord</td>\n",
       "      <td>smile</td>\n",
       "      <td>0.54</td>\n",
       "      <td>0.892680</td>\n",
       "      <td>0.877749</td>\n",
       "    </tr>\n",
       "  </tbody>\n",
       "</table>\n",
       "<p>160 rows × 5 columns</p>\n",
       "</div>"
      ],
      "text/plain": [
       "          word1     word2  org_sim    bm_sim    mm_sim\n",
       "0         tiger       cat     7.35  0.862202  0.862343\n",
       "1         tiger     tiger    10.00  1.000000  1.000000\n",
       "2         plane       car     5.77  0.749634  0.745308\n",
       "3         train       car     6.31  0.840612  0.737569\n",
       "4    television     radio     6.77  0.902639  0.892719\n",
       "..          ...       ...      ...       ...       ...\n",
       "155        monk     slave     0.92  0.997177  0.995932\n",
       "156         lad    wizard     0.92  0.994547  0.993826\n",
       "157       sugar  approach     0.88  0.883906  0.891112\n",
       "158        noon    string     0.54  0.866918  0.840501\n",
       "159       chord     smile     0.54  0.892680  0.877749\n",
       "\n",
       "[160 rows x 5 columns]"
      ]
     },
     "execution_count": 8,
     "metadata": {},
     "output_type": "execute_result"
    }
   ],
   "source": [
    "df = df[df.bm_sim != 999].reset_index(drop=True)\n",
    "df"
   ]
  },
  {
   "cell_type": "code",
   "execution_count": 9,
   "id": "84df0991-d861-47f9-9ddb-9e231f9c71de",
   "metadata": {},
   "outputs": [
    {
     "data": {
      "text/html": [
       "<div>\n",
       "<style scoped>\n",
       "    .dataframe tbody tr th:only-of-type {\n",
       "        vertical-align: middle;\n",
       "    }\n",
       "\n",
       "    .dataframe tbody tr th {\n",
       "        vertical-align: top;\n",
       "    }\n",
       "\n",
       "    .dataframe thead th {\n",
       "        text-align: right;\n",
       "    }\n",
       "</style>\n",
       "<table border=\"1\" class=\"dataframe\">\n",
       "  <thead>\n",
       "    <tr style=\"text-align: right;\">\n",
       "      <th></th>\n",
       "      <th>org_sim</th>\n",
       "      <th>bm_sim</th>\n",
       "      <th>mm_sim</th>\n",
       "    </tr>\n",
       "  </thead>\n",
       "  <tbody>\n",
       "    <tr>\n",
       "      <th>org_sim</th>\n",
       "      <td>1.000000</td>\n",
       "      <td>0.091637</td>\n",
       "      <td>0.044084</td>\n",
       "    </tr>\n",
       "    <tr>\n",
       "      <th>bm_sim</th>\n",
       "      <td>0.091637</td>\n",
       "      <td>1.000000</td>\n",
       "      <td>0.914162</td>\n",
       "    </tr>\n",
       "    <tr>\n",
       "      <th>mm_sim</th>\n",
       "      <td>0.044084</td>\n",
       "      <td>0.914162</td>\n",
       "      <td>1.000000</td>\n",
       "    </tr>\n",
       "  </tbody>\n",
       "</table>\n",
       "</div>"
      ],
      "text/plain": [
       "          org_sim    bm_sim    mm_sim\n",
       "org_sim  1.000000  0.091637  0.044084\n",
       "bm_sim   0.091637  1.000000  0.914162\n",
       "mm_sim   0.044084  0.914162  1.000000"
      ]
     },
     "execution_count": 9,
     "metadata": {},
     "output_type": "execute_result"
    }
   ],
   "source": [
    "df.corr(method='pearson')"
   ]
  },
  {
   "cell_type": "code",
   "execution_count": 10,
   "id": "7e4644a2-3261-43da-a5a6-0022deb0d848",
   "metadata": {},
   "outputs": [
    {
     "data": {
      "text/html": [
       "<div>\n",
       "<style scoped>\n",
       "    .dataframe tbody tr th:only-of-type {\n",
       "        vertical-align: middle;\n",
       "    }\n",
       "\n",
       "    .dataframe tbody tr th {\n",
       "        vertical-align: top;\n",
       "    }\n",
       "\n",
       "    .dataframe thead th {\n",
       "        text-align: right;\n",
       "    }\n",
       "</style>\n",
       "<table border=\"1\" class=\"dataframe\">\n",
       "  <thead>\n",
       "    <tr style=\"text-align: right;\">\n",
       "      <th></th>\n",
       "      <th>n</th>\n",
       "      <th>r</th>\n",
       "      <th>CI95%</th>\n",
       "      <th>p-val</th>\n",
       "    </tr>\n",
       "  </thead>\n",
       "  <tbody>\n",
       "    <tr>\n",
       "      <th>pearson</th>\n",
       "      <td>160</td>\n",
       "      <td>-0.098321</td>\n",
       "      <td>[-0.25, 0.06]</td>\n",
       "      <td>0.217579</td>\n",
       "    </tr>\n",
       "  </tbody>\n",
       "</table>\n",
       "</div>"
      ],
      "text/plain": [
       "           n         r          CI95%     p-val\n",
       "pearson  160 -0.098321  [-0.25, 0.06]  0.217579"
      ]
     },
     "execution_count": 10,
     "metadata": {},
     "output_type": "execute_result"
    }
   ],
   "source": [
    "import pingouin as pg\n",
    "\n",
    "#find partial correlation between hours and exam score while controlling for grade\n",
    "pg.partial_corr(data=df, x='mm_sim', y='org_sim', covar='bm_sim')"
   ]
  },
  {
   "cell_type": "code",
   "execution_count": 11,
   "id": "aa79a2f2-b636-4e76-b8b7-963e65839311",
   "metadata": {},
   "outputs": [
    {
     "data": {
      "text/plain": [
       "0.08974038748900001"
      ]
     },
     "execution_count": 11,
     "metadata": {},
     "output_type": "execute_result"
    }
   ],
   "source": [
    "0.299567**2"
   ]
  },
  {
   "cell_type": "code",
   "execution_count": 12,
   "id": "965eeb38-27d1-485e-a54a-76a71347b396",
   "metadata": {},
   "outputs": [
    {
     "data": {
      "text/plain": [
       "0.131180871721"
      ]
     },
     "execution_count": 12,
     "metadata": {},
     "output_type": "execute_result"
    }
   ],
   "source": [
    "0.362189**2"
   ]
  },
  {
   "cell_type": "code",
   "execution_count": 13,
   "id": "463f3df9-e662-438e-ae17-76f629343c37",
   "metadata": {},
   "outputs": [
    {
     "data": {
      "text/plain": [
       "0.08600729289999999"
      ]
     },
     "execution_count": 13,
     "metadata": {},
     "output_type": "execute_result"
    }
   ],
   "source": [
    "0.29327**2"
   ]
  },
  {
   "cell_type": "code",
   "execution_count": null,
   "id": "b1e8f300-79de-48e4-80ff-1f55e9665587",
   "metadata": {},
   "outputs": [],
   "source": []
  }
 ],
 "metadata": {
  "kernelspec": {
   "display_name": "Python 3",
   "language": "python",
   "name": "python3"
  },
  "language_info": {
   "codemirror_mode": {
    "name": "ipython",
    "version": 3
   },
   "file_extension": ".py",
   "mimetype": "text/x-python",
   "name": "python",
   "nbconvert_exporter": "python",
   "pygments_lexer": "ipython3",
   "version": "3.9.12"
  }
 },
 "nbformat": 4,
 "nbformat_minor": 5
}
