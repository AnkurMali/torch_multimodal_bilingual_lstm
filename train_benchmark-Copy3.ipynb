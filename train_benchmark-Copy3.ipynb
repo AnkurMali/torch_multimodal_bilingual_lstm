{
 "cells": [
  {
   "cell_type": "code",
   "execution_count": 1,
   "metadata": {},
   "outputs": [],
   "source": [
    "import torch\n",
    "import pandas as pd\n",
    "import numpy as np\n",
    "import random\n",
    "import torch.nn as nn\n",
    "from torch.autograd import Variable\n",
    "from torch.nn import Parameter\n",
    "from torch import Tensor\n",
    "import torch.nn.functional as F\n",
    "import matplotlib.image as img\n",
    "import matplotlib.pyplot as plt\n",
    "import torchvision\n",
    "import PIL\n",
    "import math\n",
    "import datetime\n",
    "import os\n",
    "from bpemb import BPEmb\n",
    "from torch import nn\n",
    "from image_caption_dataset import ImageCaptionDataset\n",
    "from multi_bpe import MultiBPE\n",
    "from multimodal_model import MMLSTM, BenchmarkLSTM, BenchmarkCustomLSTM\n",
    "from torch.utils.data import DataLoader\n",
    "from tqdm import tqdm\n",
    "import transformers"
   ]
  },
  {
   "cell_type": "code",
   "execution_count": 2,
   "metadata": {},
   "outputs": [],
   "source": [
    "device = 'cuda' if torch.cuda.is_available() else 'cpu'\n",
    "LOAD_PATH = './data/'\n",
    "seed = 420\n",
    "num_data = 200000\n",
    "maxlen = 49\n",
    "epochs = 15\n",
    "train_pct = 0.8\n",
    "bs=16\n",
    "lr = 1.0/math.sqrt(32/bs)\n",
    "is_multimodal=False\n",
    "train_visual_module=False"
   ]
  },
  {
   "cell_type": "code",
   "execution_count": 3,
   "metadata": {},
   "outputs": [],
   "source": [
    "torch.manual_seed(seed)\n",
    "# torch.cuda.manual_seed(seed)\n",
    "# torch.cuda.manual_seed_all(seed)  # if you are using multi-GPU.\n",
    "np.random.seed(seed)  # Numpy module.\n",
    "random.seed(seed)  # Python random module.\n",
    "# torch.backends.cudnn.benchmark = False\n",
    "# torch.backends.cudnn.deterministic = True"
   ]
  },
  {
   "cell_type": "code",
   "execution_count": 4,
   "metadata": {},
   "outputs": [],
   "source": [
    "def save_checkpoint(epoch, \n",
    "                    model, \n",
    "                    optimizer, \n",
    "                    scheduler,\n",
    "                    loss,\n",
    "                    FNAME):\n",
    "    \n",
    "    today = datetime.date.today()\n",
    "    PATH = f'./checkpoints/{today.strftime(\"checkpoint-%m-%d-%Y\")}/'\n",
    "    if not os.path.exists(PATH):\n",
    "        os.makedirs(PATH)\n",
    "    torch.save({\n",
    "            'epoch': epoch,\n",
    "            'model_state_dict': model.state_dict(),\n",
    "            'optimizer_state_dict': optimizer.state_dict(),\n",
    "            'scheduler_state_dict': scheduler.state_dict() if scheduler !=None else None,\n",
    "            'loss': loss,\n",
    "            }, f'{PATH}{FNAME}')"
   ]
  },
  {
   "cell_type": "code",
   "execution_count": 5,
   "metadata": {},
   "outputs": [],
   "source": [
    "def load_latest_checkpoint(PATH, model, optimizer, scheduler):\n",
    "    checkpoint = torch.load(PATH)\n",
    "    model.load_state_dict(checkpoint['model_state_dict'])\n",
    "    optimizer.load_state_dict(checkpoint['optimizer_state_dict'])\n",
    "    epoch = checkpoint['epoch']\n",
    "    loss = checkpoint['loss']\n",
    "    scheduler.load_state_dict(checkpoint['scheduler_state_dict'])\n",
    "    return epoch, loss"
   ]
  },
  {
   "cell_type": "code",
   "execution_count": 6,
   "metadata": {},
   "outputs": [],
   "source": [
    "def _init_fn(worker_id):\n",
    "    np.random.seed(int(seed))\n",
    "    \n",
    "def process_img(image_path): \n",
    "    transform = torchvision.transforms.Compose([\n",
    "        # Resize image to 224 x 224 as required by most vision models\n",
    "        torchvision.transforms.Resize(\n",
    "            size=(224, 224)\n",
    "        ),\n",
    "        # Convert PIL image to tensor with image values in [0, 1]\n",
    "        torchvision.transforms.ToTensor(),\n",
    "\n",
    "        torchvision.transforms.Normalize(\n",
    "            mean=[0.485, 0.456, 0.406],\n",
    "            std=[0.229, 0.224, 0.225]\n",
    "        )\n",
    "    ])\n",
    "    \n",
    "    im = PIL.Image.open(image_path)\n",
    "    image = im.convert('RGB')\n",
    "    image = transform(image)\n",
    "    \n",
    "    return image.view(1, image.size(0), image.size(1), image.size(2))\n",
    "\n",
    "def get_dataset(tokenizer, path=LOAD_PATH, num_data = None, maxlen=64):\n",
    "    df = pd.read_csv(path + 'ml_stacked_data.csv')\n",
    "    df = df[df.label == 'eng'].reset_index(drop=True)\n",
    "    if num_data != None:\n",
    "        text_df = df[:num_data]\n",
    "    else:\n",
    "        text_df = df\n",
    "    dataset = ImageCaptionDataset(text_df, tokenizer, maxlen=maxlen)\n",
    "\n",
    "    return dataset\n",
    "\n",
    "def train(ml_model, \n",
    "          epochs, \n",
    "          train_data, \n",
    "          val_data, \n",
    "          loss_fct, \n",
    "          optimizer,\n",
    "          scheduler = None,\n",
    "          clip=2.0):\n",
    "    epoch_train_losses = []\n",
    "    epoch_val_losses = []\n",
    "        \n",
    "    for epoch in range(epochs):\n",
    "        ml_model.train()\n",
    "        epoch_train_loss, num_train_steps = 0, 0\n",
    "        for i, batch in enumerate(tqdm(train_data)):\n",
    "            text, img, target = batch['input_ids'].to(device), batch['image'].to(device), batch['label_ids'].to(device)\n",
    "            #print(img.size())\n",
    "            output = ml_model(text, img)\n",
    "            ml_model.zero_grad()\n",
    "            loss = torch.nn.functional.cross_entropy(output.view(-1, 320001), target.view(-1))\n",
    "            loss.backward()\n",
    "            \n",
    "            torch.nn.utils.clip_grad_norm_(ml_model.parameters(), clip)\n",
    "            optimizer.step()\n",
    "            if scheduler is not None:\n",
    "                scheduler.step()\n",
    "            epoch_train_loss += loss.item()\n",
    "            num_train_steps += 1\n",
    "            \n",
    "            if i % 2000 == 1:\n",
    "                print(\"Current train loss:\", epoch_train_loss/num_train_steps)\n",
    "\n",
    "        current_train_loss = epoch_train_loss/len(train_data)\n",
    "        epoch_train_losses.append(current_train_loss)\n",
    "        \n",
    "        ml_model.eval()\n",
    "        epoch_val_loss = 0\n",
    "        for i, batch in enumerate(tqdm(val_data)):\n",
    "            text, img, target = batch['input_ids'].to(device), batch['image'].to(device), batch['label_ids'].to(device)\n",
    "            \n",
    "            with torch.no_grad():\n",
    "                output = ml_model(text, img)\n",
    "                loss = torch.nn.functional.cross_entropy(output.view(-1, output.size(-1)), target.view(-1))\n",
    "            epoch_val_loss += loss.item()\n",
    "            \n",
    "        current_val_loss = epoch_val_loss/len(val_data)\n",
    "        epoch_val_losses.append(current_val_loss)\n",
    "        perplexity = math.exp\n",
    "        print(\"=> Saving checkpoint...\")\n",
    "        if is_multimodal:\n",
    "            if train_visual_module:\n",
    "                FNAME = f'finetuned_visual_multimodal_lstm_{num_data}_{lr}_{epoch}-{current_val_loss:.2f}'\n",
    "                save_checkpoint(epoch, \n",
    "                                ml_model, \n",
    "                                optimizer, \n",
    "                                scheduler,\n",
    "                                current_val_loss,\n",
    "                                FNAME)\n",
    "            else:\n",
    "                FNAME = f'multimodal_lstm_{num_data}_{lr}_{epoch}-{current_val_loss:.2f}'\n",
    "                save_checkpoint(epoch, \n",
    "                                ml_model, \n",
    "                                optimizer, \n",
    "                                scheduler,\n",
    "                                current_val_loss,\n",
    "                                FNAME)\n",
    "\n",
    "        else:\n",
    "            FNAME = f'benchmark_model_{num_data}_{lr}_{epoch}-{current_val_loss:.2f}'\n",
    "            save_checkpoint(epoch, \n",
    "                            ml_model, \n",
    "                            optimizer, \n",
    "                            scheduler,\n",
    "                            current_val_loss,\n",
    "                            FNAME)\n",
    "        \n",
    "        print(f\"Epoch {epoch}:\\nTrain Loss: {current_train_loss}\\nVal loss: {current_val_loss}\")\n",
    "        \n",
    "    return epoch_train_losses, epoch_val_losses"
   ]
  },
  {
   "cell_type": "code",
   "execution_count": 7,
   "metadata": {},
   "outputs": [],
   "source": [
    "def train_benchmark(ml_model, \n",
    "                    epochs, \n",
    "                    train_data, \n",
    "                    val_data, \n",
    "                    loss_fct, \n",
    "                    optimizer,\n",
    "                    scheduler=None,\n",
    "                    clip=1.0):\n",
    "    epoch_train_losses = []\n",
    "    epoch_val_losses = []\n",
    "    perplexities = []\n",
    "    for epoch in range(epochs):\n",
    "        print(optimizer.param_groups[0][\"lr\"])\n",
    "        ml_model.train()\n",
    "        epoch_train_loss, num_train_steps = 0, 0\n",
    "        for i, batch in enumerate(tqdm(train_data)):\n",
    "            text, img, target = batch['input_ids'].to(device), batch['image'].to(device), batch['label_ids'].to(device)\n",
    "            output = ml_model(text, None)\n",
    "            ml_model.zero_grad()\n",
    "            loss = loss_fct(output.view(-1, 320001), target.view(-1))\n",
    "            loss.backward()\n",
    "            \n",
    "            torch.nn.utils.clip_grad_norm_(ml_model.parameters(), clip)\n",
    "            optimizer.step()\n",
    "            if scheduler is not None:\n",
    "                scheduler.step()\n",
    "            epoch_train_loss += loss.item()\n",
    "            num_train_steps += 1\n",
    "            \n",
    "            if i % 2000 == 1:\n",
    "                print(\"Current train loss:\", epoch_train_loss/num_train_steps)\n",
    "        current_train_loss = epoch_train_loss/len(train_data)\n",
    "        epoch_train_losses.append(current_train_loss)\n",
    "        \n",
    "        ml_model.eval()\n",
    "        epoch_val_loss = 0\n",
    "        for i, batch in enumerate(tqdm(val_data)):\n",
    "            text, img, target = batch['input_ids'].to(device), batch['image'].to(device), batch['label_ids'].to(device)\n",
    "            \n",
    "            with torch.no_grad():\n",
    "                output = ml_model(text, None)\n",
    "                loss = loss_fct(output.view(-1, output.size(-1)), target.view(-1))\n",
    "               \n",
    "            epoch_val_loss += loss.item()\n",
    "            \n",
    "        current_val_loss = epoch_val_loss/len(val_data)\n",
    "        epoch_val_losses.append(current_val_loss)\n",
    "        perplexity = math.exp(current_val_loss)\n",
    "        \n",
    "        if len(perplexities) == 0:\n",
    "            perplexities.append(perplexity)\n",
    "        else:\n",
    "            if perplexity >= (3 * perplexities[-1]):\n",
    "                for g in torch.optim.param_groups:\n",
    "                    g['lr'] = g['lr']/2\n",
    "            perplexities.append(perplexity)\n",
    "            \n",
    "        print(f\"Epoch {epoch}:\\nTrain Loss: {current_train_loss}\\nVal loss: {current_val_loss}\")\n",
    "\n",
    "#         print(\"=> Saving checkpoint...\")\n",
    "#         if is_multimodal:\n",
    "#             if train_visual_module:\n",
    "#                 FNAME = f'finetuned_visual_multimodal_lstm_{num_data}_{lr}_{epoch}-{current_val_loss:.2f}'\n",
    "#                 save_checkpoint(epoch, \n",
    "#                                 ml_model, \n",
    "#                                 optimizer, \n",
    "#                                 scheduler,\n",
    "#                                 current_val_loss,\n",
    "#                                 FNAME)\n",
    "#             else:\n",
    "#                 FNAME = f'multimodal_lstm_{num_data}_{lr}_{epoch}-{current_val_loss:.2f}'\n",
    "#                 save_checkpoint(epoch, \n",
    "#                                 ml_model, \n",
    "#                                 optimizer, \n",
    "#                                 scheduler,\n",
    "#                                 current_val_loss,\n",
    "#                                 FNAME)\n",
    "\n",
    "#         else:\n",
    "#             FNAME = f'benchmark_model_{num_data}_{lr}_{epoch}-{current_val_loss:.2f}'\n",
    "#             save_checkpoint(epoch, \n",
    "#                             ml_model, \n",
    "#                             optimizer, \n",
    "#                             scheduler,\n",
    "#                             current_val_loss,\n",
    "#                             FNAME)\n",
    "    return epoch_train_losses, epoch_val_losses"
   ]
  },
  {
   "cell_type": "code",
   "execution_count": 8,
   "metadata": {},
   "outputs": [
    {
     "name": "stdout",
     "output_type": "stream",
     "text": [
      "0.7071067811865475\n"
     ]
    },
    {
     "name": "stderr",
     "output_type": "stream",
     "text": [
      "  0%|          | 2/10000 [00:00<59:54,  2.78it/s]  "
     ]
    },
    {
     "name": "stdout",
     "output_type": "stream",
     "text": [
      "Current train loss: 12.65517807006836\n"
     ]
    },
    {
     "name": "stderr",
     "output_type": "stream",
     "text": [
      " 20%|██        | 2002/10000 [06:48<27:09,  4.91it/s]"
     ]
    },
    {
     "name": "stdout",
     "output_type": "stream",
     "text": [
      "Current train loss: 5.486799412316733\n"
     ]
    },
    {
     "name": "stderr",
     "output_type": "stream",
     "text": [
      " 40%|████      | 4002/10000 [13:38<20:20,  4.91it/s]"
     ]
    },
    {
     "name": "stdout",
     "output_type": "stream",
     "text": [
      "Current train loss: 4.901512066046635\n"
     ]
    },
    {
     "name": "stderr",
     "output_type": "stream",
     "text": [
      " 60%|██████    | 6002/10000 [20:26<13:34,  4.91it/s]"
     ]
    },
    {
     "name": "stdout",
     "output_type": "stream",
     "text": [
      "Current train loss: 4.583584970770102\n"
     ]
    },
    {
     "name": "stderr",
     "output_type": "stream",
     "text": [
      " 80%|████████  | 8002/10000 [27:15<06:34,  5.07it/s]"
     ]
    },
    {
     "name": "stdout",
     "output_type": "stream",
     "text": [
      "Current train loss: 4.370415696857036\n"
     ]
    },
    {
     "name": "stderr",
     "output_type": "stream",
     "text": [
      "100%|██████████| 10000/10000 [34:03<00:00,  4.89it/s]\n",
      "100%|██████████| 1250/1250 [03:10<00:00,  6.55it/s]\n"
     ]
    },
    {
     "name": "stdout",
     "output_type": "stream",
     "text": [
      "Epoch 0:\n",
      "Train Loss: 4.215248198866844\n",
      "Val loss: 3.452218783760071\n",
      "0.7071067811865475\n"
     ]
    },
    {
     "name": "stderr",
     "output_type": "stream",
     "text": [
      "  0%|          | 2/10000 [00:00<35:20,  4.71it/s]"
     ]
    },
    {
     "name": "stdout",
     "output_type": "stream",
     "text": [
      "Current train loss: 3.1885465383529663\n"
     ]
    },
    {
     "name": "stderr",
     "output_type": "stream",
     "text": [
      " 20%|██        | 2002/10000 [06:47<27:41,  4.81it/s]"
     ]
    },
    {
     "name": "stdout",
     "output_type": "stream",
     "text": [
      "Current train loss: 3.4585332109497027\n"
     ]
    },
    {
     "name": "stderr",
     "output_type": "stream",
     "text": [
      " 40%|████      | 4002/10000 [13:34<20:49,  4.80it/s]"
     ]
    },
    {
     "name": "stdout",
     "output_type": "stream",
     "text": [
      "Current train loss: 3.4194504866773996\n"
     ]
    },
    {
     "name": "stderr",
     "output_type": "stream",
     "text": [
      " 60%|██████    | 6003/10000 [20:22<13:24,  4.97it/s]"
     ]
    },
    {
     "name": "stdout",
     "output_type": "stream",
     "text": [
      "Current train loss: 3.3897459021571157\n"
     ]
    },
    {
     "name": "stderr",
     "output_type": "stream",
     "text": [
      " 80%|████████  | 8002/10000 [27:09<07:03,  4.71it/s]"
     ]
    },
    {
     "name": "stdout",
     "output_type": "stream",
     "text": [
      "Current train loss: 3.3596343746545223\n"
     ]
    },
    {
     "name": "stderr",
     "output_type": "stream",
     "text": [
      "100%|██████████| 10000/10000 [33:58<00:00,  4.90it/s]\n",
      "100%|██████████| 1250/1250 [03:09<00:00,  6.58it/s]\n"
     ]
    },
    {
     "name": "stdout",
     "output_type": "stream",
     "text": [
      "Epoch 1:\n",
      "Train Loss: 3.3325112164258957\n",
      "Val loss: 3.1107340593338013\n",
      "0.7071067811865475\n"
     ]
    },
    {
     "name": "stderr",
     "output_type": "stream",
     "text": [
      "  0%|          | 2/10000 [00:00<33:32,  4.97it/s]"
     ]
    },
    {
     "name": "stdout",
     "output_type": "stream",
     "text": [
      "Current train loss: 3.3606032133102417\n"
     ]
    },
    {
     "name": "stderr",
     "output_type": "stream",
     "text": [
      " 20%|██        | 2002/10000 [06:47<27:05,  4.92it/s]"
     ]
    },
    {
     "name": "stdout",
     "output_type": "stream",
     "text": [
      "Current train loss: 3.1549121821438755\n"
     ]
    },
    {
     "name": "stderr",
     "output_type": "stream",
     "text": [
      " 40%|████      | 4002/10000 [13:35<21:02,  4.75it/s]"
     ]
    },
    {
     "name": "stdout",
     "output_type": "stream",
     "text": [
      "Current train loss: 3.144089566297021\n"
     ]
    },
    {
     "name": "stderr",
     "output_type": "stream",
     "text": [
      " 60%|██████    | 6003/10000 [20:22<13:11,  5.05it/s]"
     ]
    },
    {
     "name": "stdout",
     "output_type": "stream",
     "text": [
      "Current train loss: 3.1318892823263473\n"
     ]
    },
    {
     "name": "stderr",
     "output_type": "stream",
     "text": [
      " 80%|████████  | 8002/10000 [27:10<06:50,  4.87it/s]"
     ]
    },
    {
     "name": "stdout",
     "output_type": "stream",
     "text": [
      "Current train loss: 3.116915875510912\n"
     ]
    },
    {
     "name": "stderr",
     "output_type": "stream",
     "text": [
      "100%|██████████| 10000/10000 [33:57<00:00,  4.91it/s]\n",
      "100%|██████████| 1250/1250 [03:09<00:00,  6.58it/s]\n"
     ]
    },
    {
     "name": "stdout",
     "output_type": "stream",
     "text": [
      "Epoch 2:\n",
      "Train Loss: 3.105567686152458\n",
      "Val loss: 2.9717999406814575\n",
      "0.7071067811865475\n"
     ]
    },
    {
     "name": "stderr",
     "output_type": "stream",
     "text": [
      "  0%|          | 2/10000 [00:00<34:23,  4.85it/s]"
     ]
    },
    {
     "name": "stdout",
     "output_type": "stream",
     "text": [
      "Current train loss: 3.0287365913391113\n"
     ]
    },
    {
     "name": "stderr",
     "output_type": "stream",
     "text": [
      " 20%|██        | 2003/10000 [06:46<26:26,  5.04it/s]"
     ]
    },
    {
     "name": "stdout",
     "output_type": "stream",
     "text": [
      "Current train loss: 3.008124230386732\n"
     ]
    },
    {
     "name": "stderr",
     "output_type": "stream",
     "text": [
      " 40%|████      | 4002/10000 [13:33<21:08,  4.73it/s]"
     ]
    },
    {
     "name": "stdout",
     "output_type": "stream",
     "text": [
      "Current train loss: 3.005432755574174\n"
     ]
    },
    {
     "name": "stderr",
     "output_type": "stream",
     "text": [
      " 60%|██████    | 6002/10000 [20:22<13:48,  4.83it/s]"
     ]
    },
    {
     "name": "stdout",
     "output_type": "stream",
     "text": [
      "Current train loss: 2.995436712409289\n"
     ]
    },
    {
     "name": "stderr",
     "output_type": "stream",
     "text": [
      " 80%|████████  | 8003/10000 [27:10<06:41,  4.98it/s]"
     ]
    },
    {
     "name": "stdout",
     "output_type": "stream",
     "text": [
      "Current train loss: 2.987162598131061\n"
     ]
    },
    {
     "name": "stderr",
     "output_type": "stream",
     "text": [
      "100%|██████████| 10000/10000 [33:56<00:00,  4.91it/s]\n",
      "100%|██████████| 1250/1250 [03:10<00:00,  6.57it/s]\n"
     ]
    },
    {
     "name": "stdout",
     "output_type": "stream",
     "text": [
      "Epoch 3:\n",
      "Train Loss: 2.980543468928337\n",
      "Val loss: 2.886949514579773\n",
      "0.7071067811865475\n"
     ]
    },
    {
     "name": "stderr",
     "output_type": "stream",
     "text": [
      "  0%|          | 3/10000 [00:00<33:11,  5.02it/s]"
     ]
    },
    {
     "name": "stdout",
     "output_type": "stream",
     "text": [
      "Current train loss: 2.933606505393982\n"
     ]
    },
    {
     "name": "stderr",
     "output_type": "stream",
     "text": [
      " 20%|██        | 2003/10000 [06:49<26:45,  4.98it/s]"
     ]
    },
    {
     "name": "stdout",
     "output_type": "stream",
     "text": [
      "Current train loss: 2.906056476520611\n"
     ]
    },
    {
     "name": "stderr",
     "output_type": "stream",
     "text": [
      " 40%|████      | 4003/10000 [13:36<19:41,  5.07it/s]"
     ]
    },
    {
     "name": "stdout",
     "output_type": "stream",
     "text": [
      "Current train loss: 2.9060316326497855\n"
     ]
    },
    {
     "name": "stderr",
     "output_type": "stream",
     "text": [
      " 60%|██████    | 6002/10000 [20:24<13:27,  4.95it/s]"
     ]
    },
    {
     "name": "stdout",
     "output_type": "stream",
     "text": [
      "Current train loss: 2.903435939830448\n"
     ]
    },
    {
     "name": "stderr",
     "output_type": "stream",
     "text": [
      " 80%|████████  | 8002/10000 [27:11<06:53,  4.83it/s]"
     ]
    },
    {
     "name": "stdout",
     "output_type": "stream",
     "text": [
      "Current train loss: 2.9002465695269373\n"
     ]
    },
    {
     "name": "stderr",
     "output_type": "stream",
     "text": [
      "100%|██████████| 10000/10000 [34:00<00:00,  4.90it/s]\n",
      "100%|██████████| 1250/1250 [03:10<00:00,  6.55it/s]\n"
     ]
    },
    {
     "name": "stdout",
     "output_type": "stream",
     "text": [
      "Epoch 4:\n",
      "Train Loss: 2.8956520588874817\n",
      "Val loss: 2.831635028266907\n",
      "0.7071067811865475\n"
     ]
    },
    {
     "name": "stderr",
     "output_type": "stream",
     "text": [
      "  0%|          | 2/10000 [00:00<34:42,  4.80it/s]"
     ]
    },
    {
     "name": "stdout",
     "output_type": "stream",
     "text": [
      "Current train loss: 2.6853089332580566\n"
     ]
    },
    {
     "name": "stderr",
     "output_type": "stream",
     "text": [
      " 20%|██        | 2002/10000 [06:47<27:25,  4.86it/s]"
     ]
    },
    {
     "name": "stdout",
     "output_type": "stream",
     "text": [
      "Current train loss: 2.8350156831455515\n"
     ]
    },
    {
     "name": "stderr",
     "output_type": "stream",
     "text": [
      " 40%|████      | 4002/10000 [13:36<20:38,  4.84it/s]"
     ]
    },
    {
     "name": "stdout",
     "output_type": "stream",
     "text": [
      "Current train loss: 2.8361195475384333\n"
     ]
    },
    {
     "name": "stderr",
     "output_type": "stream",
     "text": [
      " 60%|██████    | 6003/10000 [20:26<13:23,  4.98it/s]"
     ]
    },
    {
     "name": "stdout",
     "output_type": "stream",
     "text": [
      "Current train loss: 2.8391417348357053\n"
     ]
    },
    {
     "name": "stderr",
     "output_type": "stream",
     "text": [
      " 80%|████████  | 8002/10000 [27:16<06:48,  4.89it/s]"
     ]
    },
    {
     "name": "stdout",
     "output_type": "stream",
     "text": [
      "Current train loss: 2.8388014084039646\n"
     ]
    },
    {
     "name": "stderr",
     "output_type": "stream",
     "text": [
      "100%|██████████| 10000/10000 [34:05<00:00,  4.89it/s]\n",
      "100%|██████████| 1250/1250 [03:10<00:00,  6.55it/s]\n"
     ]
    },
    {
     "name": "stdout",
     "output_type": "stream",
     "text": [
      "Epoch 5:\n",
      "Train Loss: 2.833346119689941\n",
      "Val loss: 2.793127955055237\n",
      "0.7071067811865475\n"
     ]
    },
    {
     "name": "stderr",
     "output_type": "stream",
     "text": [
      "  0%|          | 2/10000 [00:00<34:21,  4.85it/s]"
     ]
    },
    {
     "name": "stdout",
     "output_type": "stream",
     "text": [
      "Current train loss: 2.8515820503234863\n"
     ]
    },
    {
     "name": "stderr",
     "output_type": "stream",
     "text": [
      " 20%|██        | 2002/10000 [06:51<27:07,  4.91it/s]"
     ]
    },
    {
     "name": "stdout",
     "output_type": "stream",
     "text": [
      "Current train loss: 2.7832986507025157\n"
     ]
    },
    {
     "name": "stderr",
     "output_type": "stream",
     "text": [
      " 40%|████      | 4002/10000 [13:40<20:26,  4.89it/s]"
     ]
    },
    {
     "name": "stdout",
     "output_type": "stream",
     "text": [
      "Current train loss: 2.7858049416172688\n"
     ]
    },
    {
     "name": "stderr",
     "output_type": "stream",
     "text": [
      " 60%|██████    | 6002/10000 [20:28<13:56,  4.78it/s]"
     ]
    },
    {
     "name": "stdout",
     "output_type": "stream",
     "text": [
      "Current train loss: 2.786292972345425\n"
     ]
    },
    {
     "name": "stderr",
     "output_type": "stream",
     "text": [
      " 80%|████████  | 8003/10000 [27:16<06:36,  5.04it/s]"
     ]
    },
    {
     "name": "stdout",
     "output_type": "stream",
     "text": [
      "Current train loss: 2.7846410672267177\n"
     ]
    },
    {
     "name": "stderr",
     "output_type": "stream",
     "text": [
      "100%|██████████| 10000/10000 [34:09<00:00,  4.88it/s]\n",
      "100%|██████████| 1250/1250 [03:11<00:00,  6.52it/s]\n"
     ]
    },
    {
     "name": "stdout",
     "output_type": "stream",
     "text": [
      "Epoch 6:\n",
      "Train Loss: 2.782998184108734\n",
      "Val loss: 2.757483325958252\n",
      "0.7071067811865475\n"
     ]
    },
    {
     "name": "stderr",
     "output_type": "stream",
     "text": [
      "  0%|          | 3/10000 [00:00<33:53,  4.92it/s]"
     ]
    },
    {
     "name": "stdout",
     "output_type": "stream",
     "text": [
      "Current train loss: 2.4028910398483276\n"
     ]
    },
    {
     "name": "stderr",
     "output_type": "stream",
     "text": [
      " 20%|██        | 2002/10000 [06:50<28:04,  4.75it/s]"
     ]
    },
    {
     "name": "stdout",
     "output_type": "stream",
     "text": [
      "Current train loss: 2.744975947476291\n"
     ]
    },
    {
     "name": "stderr",
     "output_type": "stream",
     "text": [
      " 40%|████      | 4002/10000 [13:37<20:40,  4.84it/s]"
     ]
    },
    {
     "name": "stdout",
     "output_type": "stream",
     "text": [
      "Current train loss: 2.744411613689787\n"
     ]
    },
    {
     "name": "stderr",
     "output_type": "stream",
     "text": [
      " 60%|██████    | 6003/10000 [20:26<13:22,  4.98it/s]"
     ]
    },
    {
     "name": "stdout",
     "output_type": "stream",
     "text": [
      "Current train loss: 2.7454949406455733\n"
     ]
    },
    {
     "name": "stderr",
     "output_type": "stream",
     "text": [
      " 80%|████████  | 8003/10000 [27:16<06:33,  5.08it/s]"
     ]
    },
    {
     "name": "stdout",
     "output_type": "stream",
     "text": [
      "Current train loss: 2.7441470695268926\n"
     ]
    },
    {
     "name": "stderr",
     "output_type": "stream",
     "text": [
      "100%|██████████| 10000/10000 [34:03<00:00,  4.89it/s]\n",
      "100%|██████████| 1250/1250 [03:10<00:00,  6.55it/s]\n"
     ]
    },
    {
     "name": "stdout",
     "output_type": "stream",
     "text": [
      "Epoch 7:\n",
      "Train Loss: 2.7426236793637275\n",
      "Val loss: 2.732710922527313\n",
      "0.7071067811865475\n"
     ]
    },
    {
     "name": "stderr",
     "output_type": "stream",
     "text": [
      "  0%|          | 2/10000 [00:00<33:59,  4.90it/s]"
     ]
    },
    {
     "name": "stdout",
     "output_type": "stream",
     "text": [
      "Current train loss: 2.831613063812256\n"
     ]
    },
    {
     "name": "stderr",
     "output_type": "stream",
     "text": [
      " 20%|██        | 2002/10000 [06:50<27:23,  4.87it/s]"
     ]
    },
    {
     "name": "stdout",
     "output_type": "stream",
     "text": [
      "Current train loss: 2.701992702055406\n"
     ]
    },
    {
     "name": "stderr",
     "output_type": "stream",
     "text": [
      " 40%|████      | 4002/10000 [13:37<20:02,  4.99it/s]"
     ]
    },
    {
     "name": "stdout",
     "output_type": "stream",
     "text": [
      "Current train loss: 2.703667904245204\n"
     ]
    },
    {
     "name": "stderr",
     "output_type": "stream",
     "text": [
      " 60%|██████    | 6002/10000 [20:25<14:03,  4.74it/s]"
     ]
    },
    {
     "name": "stdout",
     "output_type": "stream",
     "text": [
      "Current train loss: 2.7065084498550687\n"
     ]
    },
    {
     "name": "stderr",
     "output_type": "stream",
     "text": [
      " 80%|████████  | 8002/10000 [27:12<06:51,  4.86it/s]"
     ]
    },
    {
     "name": "stdout",
     "output_type": "stream",
     "text": [
      "Current train loss: 2.707014627171826\n"
     ]
    },
    {
     "name": "stderr",
     "output_type": "stream",
     "text": [
      "100%|██████████| 10000/10000 [33:59<00:00,  4.90it/s]\n",
      "100%|██████████| 1250/1250 [03:10<00:00,  6.56it/s]\n"
     ]
    },
    {
     "name": "stdout",
     "output_type": "stream",
     "text": [
      "Epoch 8:\n",
      "Train Loss: 2.7070716718554495\n",
      "Val loss: 2.7063455171585082\n",
      "0.7071067811865475\n"
     ]
    },
    {
     "name": "stderr",
     "output_type": "stream",
     "text": [
      "  0%|          | 2/10000 [00:00<34:46,  4.79it/s]"
     ]
    },
    {
     "name": "stdout",
     "output_type": "stream",
     "text": [
      "Current train loss: 2.577356457710266\n"
     ]
    },
    {
     "name": "stderr",
     "output_type": "stream",
     "text": [
      " 20%|██        | 2003/10000 [06:47<26:14,  5.08it/s]"
     ]
    },
    {
     "name": "stdout",
     "output_type": "stream",
     "text": [
      "Current train loss: 2.677229053728826\n"
     ]
    },
    {
     "name": "stderr",
     "output_type": "stream",
     "text": [
      " 40%|████      | 4002/10000 [13:36<20:27,  4.89it/s]"
     ]
    },
    {
     "name": "stdout",
     "output_type": "stream",
     "text": [
      "Current train loss: 2.672297399083356\n"
     ]
    },
    {
     "name": "stderr",
     "output_type": "stream",
     "text": [
      " 60%|██████    | 6002/10000 [20:25<13:37,  4.89it/s]"
     ]
    },
    {
     "name": "stdout",
     "output_type": "stream",
     "text": [
      "Current train loss: 2.6705483693116827\n"
     ]
    },
    {
     "name": "stderr",
     "output_type": "stream",
     "text": [
      " 80%|████████  | 8002/10000 [27:12<06:51,  4.86it/s]"
     ]
    },
    {
     "name": "stdout",
     "output_type": "stream",
     "text": [
      "Current train loss: 2.6733637565197097\n"
     ]
    },
    {
     "name": "stderr",
     "output_type": "stream",
     "text": [
      "100%|██████████| 10000/10000 [34:00<00:00,  4.90it/s]\n",
      "100%|██████████| 1250/1250 [03:10<00:00,  6.57it/s]\n"
     ]
    },
    {
     "name": "stdout",
     "output_type": "stream",
     "text": [
      "Epoch 9:\n",
      "Train Loss: 2.6761163468003275\n",
      "Val loss: 2.691673587036133\n",
      "0.7071067811865475\n"
     ]
    },
    {
     "name": "stderr",
     "output_type": "stream",
     "text": [
      "  0%|          | 3/10000 [00:00<34:23,  4.84it/s]"
     ]
    },
    {
     "name": "stdout",
     "output_type": "stream",
     "text": [
      "Current train loss: 2.4280706644058228\n"
     ]
    },
    {
     "name": "stderr",
     "output_type": "stream",
     "text": [
      " 20%|██        | 2003/10000 [06:46<25:45,  5.17it/s]"
     ]
    },
    {
     "name": "stdout",
     "output_type": "stream",
     "text": [
      "Current train loss: 2.6442384535258823\n"
     ]
    },
    {
     "name": "stderr",
     "output_type": "stream",
     "text": [
      " 40%|████      | 4003/10000 [13:34<20:15,  4.93it/s]"
     ]
    },
    {
     "name": "stdout",
     "output_type": "stream",
     "text": [
      "Current train loss: 2.644126569074967\n"
     ]
    },
    {
     "name": "stderr",
     "output_type": "stream",
     "text": [
      " 60%|██████    | 6003/10000 [20:22<12:57,  5.14it/s]"
     ]
    },
    {
     "name": "stdout",
     "output_type": "stream",
     "text": [
      "Current train loss: 2.644143968234655\n"
     ]
    },
    {
     "name": "stderr",
     "output_type": "stream",
     "text": [
      " 80%|████████  | 8002/10000 [27:08<06:41,  4.98it/s]"
     ]
    },
    {
     "name": "stdout",
     "output_type": "stream",
     "text": [
      "Current train loss: 2.647243438631676\n"
     ]
    },
    {
     "name": "stderr",
     "output_type": "stream",
     "text": [
      "100%|██████████| 10000/10000 [33:55<00:00,  4.91it/s]\n",
      "100%|██████████| 1250/1250 [03:10<00:00,  6.57it/s]\n"
     ]
    },
    {
     "name": "stdout",
     "output_type": "stream",
     "text": [
      "Epoch 10:\n",
      "Train Loss: 2.6490342474341393\n",
      "Val loss: 2.6720113839149473\n",
      "0.7071067811865475\n"
     ]
    },
    {
     "name": "stderr",
     "output_type": "stream",
     "text": [
      "  0%|          | 2/10000 [00:00<34:01,  4.90it/s]"
     ]
    },
    {
     "name": "stdout",
     "output_type": "stream",
     "text": [
      "Current train loss: 2.6188780069351196\n"
     ]
    },
    {
     "name": "stderr",
     "output_type": "stream",
     "text": [
      " 20%|██        | 2003/10000 [06:48<27:00,  4.93it/s]"
     ]
    },
    {
     "name": "stdout",
     "output_type": "stream",
     "text": [
      "Current train loss: 2.6172939818817658\n"
     ]
    },
    {
     "name": "stderr",
     "output_type": "stream",
     "text": [
      " 40%|████      | 4002/10000 [13:36<20:50,  4.80it/s]"
     ]
    },
    {
     "name": "stdout",
     "output_type": "stream",
     "text": [
      "Current train loss: 2.620273868540774\n"
     ]
    },
    {
     "name": "stderr",
     "output_type": "stream",
     "text": [
      " 60%|██████    | 6003/10000 [20:26<13:22,  4.98it/s]"
     ]
    },
    {
     "name": "stdout",
     "output_type": "stream",
     "text": [
      "Current train loss: 2.621713917480235\n"
     ]
    },
    {
     "name": "stderr",
     "output_type": "stream",
     "text": [
      " 80%|████████  | 8002/10000 [27:15<06:48,  4.89it/s]"
     ]
    },
    {
     "name": "stdout",
     "output_type": "stream",
     "text": [
      "Current train loss: 2.6238167699472035\n"
     ]
    },
    {
     "name": "stderr",
     "output_type": "stream",
     "text": [
      "100%|██████████| 10000/10000 [34:02<00:00,  4.90it/s]\n",
      "100%|██████████| 1250/1250 [03:09<00:00,  6.58it/s]\n"
     ]
    },
    {
     "name": "stdout",
     "output_type": "stream",
     "text": [
      "Epoch 11:\n",
      "Train Loss: 2.624616628873348\n",
      "Val loss: 2.662219844532013\n",
      "0.7071067811865475\n"
     ]
    },
    {
     "name": "stderr",
     "output_type": "stream",
     "text": [
      "  0%|          | 2/10000 [00:00<34:06,  4.89it/s]"
     ]
    },
    {
     "name": "stdout",
     "output_type": "stream",
     "text": [
      "Current train loss: 2.875465512275696\n"
     ]
    },
    {
     "name": "stderr",
     "output_type": "stream",
     "text": [
      " 20%|██        | 2003/10000 [06:49<26:27,  5.04it/s]"
     ]
    },
    {
     "name": "stdout",
     "output_type": "stream",
     "text": [
      "Current train loss: 2.5950734136583327\n"
     ]
    },
    {
     "name": "stderr",
     "output_type": "stream",
     "text": [
      " 40%|████      | 4002/10000 [13:36<20:19,  4.92it/s]"
     ]
    },
    {
     "name": "stdout",
     "output_type": "stream",
     "text": [
      "Current train loss: 2.598049786673493\n"
     ]
    },
    {
     "name": "stderr",
     "output_type": "stream",
     "text": [
      " 60%|██████    | 6003/10000 [20:22<13:27,  4.95it/s]"
     ]
    },
    {
     "name": "stdout",
     "output_type": "stream",
     "text": [
      "Current train loss: 2.600277048752571\n"
     ]
    },
    {
     "name": "stderr",
     "output_type": "stream",
     "text": [
      " 80%|████████  | 8002/10000 [27:09<06:53,  4.83it/s]"
     ]
    },
    {
     "name": "stdout",
     "output_type": "stream",
     "text": [
      "Current train loss: 2.6021970332607394\n"
     ]
    },
    {
     "name": "stderr",
     "output_type": "stream",
     "text": [
      "100%|██████████| 10000/10000 [33:56<00:00,  4.91it/s]\n",
      "100%|██████████| 1250/1250 [03:10<00:00,  6.57it/s]\n"
     ]
    },
    {
     "name": "stdout",
     "output_type": "stream",
     "text": [
      "Epoch 12:\n",
      "Train Loss: 2.602926277446747\n",
      "Val loss: 2.6498695282936096\n",
      "0.7071067811865475\n"
     ]
    },
    {
     "name": "stderr",
     "output_type": "stream",
     "text": [
      "  0%|          | 2/10000 [00:00<34:49,  4.79it/s]"
     ]
    },
    {
     "name": "stdout",
     "output_type": "stream",
     "text": [
      "Current train loss: 2.5155704021453857\n"
     ]
    },
    {
     "name": "stderr",
     "output_type": "stream",
     "text": [
      " 20%|██        | 2003/10000 [06:48<26:16,  5.07it/s]"
     ]
    },
    {
     "name": "stdout",
     "output_type": "stream",
     "text": [
      "Current train loss: 2.5740064970858687\n"
     ]
    },
    {
     "name": "stderr",
     "output_type": "stream",
     "text": [
      " 40%|████      | 4002/10000 [13:33<20:34,  4.86it/s]"
     ]
    },
    {
     "name": "stdout",
     "output_type": "stream",
     "text": [
      "Current train loss: 2.5809164546180643\n"
     ]
    },
    {
     "name": "stderr",
     "output_type": "stream",
     "text": [
      " 60%|██████    | 6003/10000 [20:22<13:07,  5.08it/s]"
     ]
    },
    {
     "name": "stdout",
     "output_type": "stream",
     "text": [
      "Current train loss: 2.5809111460293583\n"
     ]
    },
    {
     "name": "stderr",
     "output_type": "stream",
     "text": [
      " 80%|████████  | 8002/10000 [27:10<07:00,  4.75it/s]"
     ]
    },
    {
     "name": "stdout",
     "output_type": "stream",
     "text": [
      "Current train loss: 2.58119693995118\n"
     ]
    },
    {
     "name": "stderr",
     "output_type": "stream",
     "text": [
      "100%|██████████| 10000/10000 [33:58<00:00,  4.91it/s]\n",
      "100%|██████████| 1250/1250 [03:10<00:00,  6.57it/s]\n"
     ]
    },
    {
     "name": "stdout",
     "output_type": "stream",
     "text": [
      "Epoch 13:\n",
      "Train Loss: 2.581852628874779\n",
      "Val loss: 2.6409975255966187\n",
      "0.7071067811865475\n"
     ]
    },
    {
     "name": "stderr",
     "output_type": "stream",
     "text": [
      "  0%|          | 2/10000 [00:00<35:24,  4.71it/s]"
     ]
    },
    {
     "name": "stdout",
     "output_type": "stream",
     "text": [
      "Current train loss: 2.5386228561401367\n"
     ]
    },
    {
     "name": "stderr",
     "output_type": "stream",
     "text": [
      " 20%|██        | 2002/10000 [06:48<26:54,  4.95it/s]"
     ]
    },
    {
     "name": "stdout",
     "output_type": "stream",
     "text": [
      "Current train loss: 2.548977495371164\n"
     ]
    },
    {
     "name": "stderr",
     "output_type": "stream",
     "text": [
      " 40%|████      | 4003/10000 [13:35<19:58,  5.01it/s]"
     ]
    },
    {
     "name": "stdout",
     "output_type": "stream",
     "text": [
      "Current train loss: 2.557039044428801\n"
     ]
    },
    {
     "name": "stderr",
     "output_type": "stream",
     "text": [
      " 60%|██████    | 6003/10000 [20:22<13:30,  4.93it/s]"
     ]
    },
    {
     "name": "stdout",
     "output_type": "stream",
     "text": [
      "Current train loss: 2.5597556584559054\n"
     ]
    },
    {
     "name": "stderr",
     "output_type": "stream",
     "text": [
      " 80%|████████  | 8003/10000 [27:16<06:45,  4.93it/s]"
     ]
    },
    {
     "name": "stdout",
     "output_type": "stream",
     "text": [
      "Current train loss: 2.562566021924256\n"
     ]
    },
    {
     "name": "stderr",
     "output_type": "stream",
     "text": [
      "100%|██████████| 10000/10000 [34:08<00:00,  4.88it/s]\n",
      "100%|██████████| 1250/1250 [03:10<00:00,  6.58it/s]"
     ]
    },
    {
     "name": "stdout",
     "output_type": "stream",
     "text": [
      "Epoch 14:\n",
      "Train Loss: 2.5635516109228136\n",
      "Val loss: 2.632882562351227\n"
     ]
    },
    {
     "name": "stderr",
     "output_type": "stream",
     "text": [
      "\n"
     ]
    },
    {
     "data": {
      "text/plain": [
       "([4.215248198866844,\n",
       "  3.3325112164258957,\n",
       "  3.105567686152458,\n",
       "  2.980543468928337,\n",
       "  2.8956520588874817,\n",
       "  2.833346119689941,\n",
       "  2.782998184108734,\n",
       "  2.7426236793637275,\n",
       "  2.7070716718554495,\n",
       "  2.6761163468003275,\n",
       "  2.6490342474341393,\n",
       "  2.624616628873348,\n",
       "  2.602926277446747,\n",
       "  2.581852628874779,\n",
       "  2.5635516109228136],\n",
       " [3.452218783760071,\n",
       "  3.1107340593338013,\n",
       "  2.9717999406814575,\n",
       "  2.886949514579773,\n",
       "  2.831635028266907,\n",
       "  2.793127955055237,\n",
       "  2.757483325958252,\n",
       "  2.732710922527313,\n",
       "  2.7063455171585082,\n",
       "  2.691673587036133,\n",
       "  2.6720113839149473,\n",
       "  2.662219844532013,\n",
       "  2.6498695282936096,\n",
       "  2.6409975255966187,\n",
       "  2.632882562351227])"
      ]
     },
     "execution_count": 8,
     "metadata": {},
     "output_type": "execute_result"
    }
   ],
   "source": [
    "multi_bpe = MultiBPE()\n",
    "all_data = get_dataset(tokenizer=multi_bpe, num_data=num_data,maxlen=maxlen)\n",
    "\n",
    "train_size = int(train_pct * len(all_data))\n",
    "test_size = len(all_data) - train_size\n",
    "train_dataset, val_test_dataset = torch.utils.data.random_split(all_data, [train_size, test_size])\n",
    "\n",
    "train_size = int(0.5 * len(val_test_dataset))\n",
    "test_size = len(val_test_dataset) - train_size\n",
    "val_dataset, test_dataset = torch.utils.data.random_split(val_test_dataset, [train_size, test_size])\n",
    "\n",
    "\n",
    "train_data = DataLoader(train_dataset, batch_size=bs, shuffle=True)\n",
    "val_data = DataLoader(val_dataset, batch_size=bs, shuffle=False)\n",
    "test_data = DataLoader(test_dataset, batch_size=bs, shuffle=False)\n",
    "\n",
    "benchmark_model = MMLSTM(is_multimodal=False,\n",
    "                 train_visual_module=False).to(device)\n",
    "# visual_multimodal_lstm = MMLSTM(is_multimodal=is_multimodal, \n",
    "#                                       train_visual_module=train_visual_module).to(device)\n",
    "\n",
    "optimizer = torch.optim.SGD(benchmark_model.parameters(), lr=lr)\n",
    "loss_fct = torch.nn.CrossEntropyLoss(ignore_index=320000, reduction='mean')\n",
    "\n",
    "# num_warmup_steps = (len(train_dataset) // bs)\n",
    "# num_training_steps = (len(train_dataset) // bs) * epochs\n",
    "# scheduler = transformers.get_linear_schedule_with_warmup(optimizer, \n",
    "#                                                          num_warmup_steps=num_warmup_steps, \n",
    "#                                                          num_training_steps=num_training_steps)\n",
    "# scheduler = transformers.get_constant_schedule_with_warmup(optimizer, \n",
    "#                                                          num_warmup_steps=num_warmup_steps) \n",
    "train_benchmark(benchmark_model, \n",
    "                epochs, \n",
    "                train_data, \n",
    "                val_data, \n",
    "                loss_fct, \n",
    "                optimizer,\n",
    "                scheduler=None)"
   ]
  },
  {
   "cell_type": "code",
   "execution_count": 9,
   "metadata": {},
   "outputs": [
    {
     "data": {
      "text/plain": [
       "([4.612036231708527, 3.849266048717499, 3.684289860057831, 3.5965754370212557],\n",
       " [3.955835499954224,\n",
       "  3.7210617919921876,\n",
       "  3.623933087158203,\n",
       "  3.5507487411499024])"
      ]
     },
     "execution_count": 9,
     "metadata": {},
     "output_type": "execute_result"
    }
   ],
   "source": [
    "([4.612036231708527, 3.849266048717499, 3.684289860057831, 3.5965754370212557],\n",
    " [3.955835499954224,\n",
    "  3.7210617919921876,\n",
    "  3.623933087158203,\n",
    "  3.5507487411499024])"
   ]
  },
  {
   "cell_type": "code",
   "execution_count": 10,
   "metadata": {},
   "outputs": [],
   "source": [
    "def test(ml_model, \n",
    "          epochs, \n",
    "          val_data, \n",
    "          loss_fct, \n",
    "          optimizer,\n",
    "          scheduler = None,\n",
    "          clip=2.0):\n",
    "    \n",
    "    ml_model.eval()\n",
    "    epoch_val_loss = 0\n",
    "    for i, batch in enumerate(tqdm(val_data)):\n",
    "        text, img, target = batch['input_ids'].to(device), batch['image'].to(device), batch['label_ids'].to(device)\n",
    "\n",
    "        with torch.no_grad():\n",
    "            output = ml_model(text, None)\n",
    "            loss = loss_fct(output.view(-1, output.size(-1)), target.view(-1))\n",
    "\n",
    "        epoch_val_loss += loss.item()\n",
    "\n",
    "    current_val_loss = epoch_val_loss/len(val_data)\n",
    "    perplexity = math.exp(current_val_loss)\n",
    "\n",
    "\n",
    "    print(f\"Val loss: {current_val_loss}\")\n",
    "    print(f\"Val perp: {perplexity}\")\n",
    "\n",
    "    return current_val_loss, perplexity"
   ]
  },
  {
   "cell_type": "code",
   "execution_count": 11,
   "metadata": {},
   "outputs": [
    {
     "name": "stderr",
     "output_type": "stream",
     "text": [
      "100%|██████████| 1250/1250 [03:10<00:00,  6.55it/s]"
     ]
    },
    {
     "name": "stdout",
     "output_type": "stream",
     "text": [
      "Val loss: 2.628850291252136\n",
      "Val perp: 13.857828273378601\n"
     ]
    },
    {
     "name": "stderr",
     "output_type": "stream",
     "text": [
      "\n"
     ]
    },
    {
     "data": {
      "text/plain": [
       "(2.628850291252136, 13.857828273378601)"
      ]
     },
     "execution_count": 11,
     "metadata": {},
     "output_type": "execute_result"
    }
   ],
   "source": [
    "test(benchmark_model, \n",
    "    epochs, \n",
    "    test_data, \n",
    "    loss_fct, \n",
    "    optimizer,\n",
    "    scheduler=None)"
   ]
  },
  {
   "cell_type": "code",
   "execution_count": 12,
   "metadata": {},
   "outputs": [],
   "source": [
    "if is_multimodal:\n",
    "    if train_visual_module:\n",
    "        torch.save(visual_multimodal_lstm.state_dict(), \n",
    "                   f'./saved_models/finetuned_visual_multimodal_lstm_{num_data}_{lr}_{epochs}v3')\n",
    "    else:\n",
    "        torch.save(train_visual_multimodal_lstm.state_dict(), \n",
    "                   f'./saved_models/multimodal_lstm_{num_data}_{lr}_{epochs}v3')\n",
    "else:\n",
    "    torch.save(benchmark_model.state_dict(), \n",
    "               f'./saved_models/benchmark_model_{num_data}_{lr}_{epochs}v5')"
   ]
  },
  {
   "cell_type": "code",
   "execution_count": 13,
   "metadata": {},
   "outputs": [
    {
     "data": {
      "text/plain": [
       "([4.528013765186734,\n",
       "  3.832729446686639,\n",
       "  3.6829322583516437,\n",
       "  3.6024026798884075,\n",
       "  3.5487994864993624,\n",
       "  3.5103443424860634,\n",
       "  3.479441665818956,\n",
       "  3.454497324244181,\n",
       "  3.4344203785790337,\n",
       "  3.416726737170749,\n",
       "  3.4017402518802218,\n",
       "  3.387020494418674,\n",
       "  3.3755083185831705,\n",
       "  3.364240313635932,\n",
       "  3.354363308567471],\n",
       " [3.8837243381500244,\n",
       "  3.669478569030762,\n",
       "  3.588050753593445,\n",
       "  3.522890328216553,\n",
       "  3.492208413696289,\n",
       "  3.4554949699401853,\n",
       "  3.435982433128357,\n",
       "  3.4159389377593996,\n",
       "  3.4012541484832766,\n",
       "  3.3922290019989014,\n",
       "  3.381755703544617,\n",
       "  3.3686582359313966,\n",
       "  3.364826725578308,\n",
       "  3.3517054290771484,\n",
       "  3.344561079216003])"
      ]
     },
     "execution_count": 13,
     "metadata": {},
     "output_type": "execute_result"
    }
   ],
   "source": [
    "([4.528013765186734,\n",
    "  3.832729446686639,\n",
    "  3.6829322583516437,\n",
    "  3.6024026798884075,\n",
    "  3.5487994864993624,\n",
    "  3.5103443424860634,\n",
    "  3.479441665818956,\n",
    "  3.454497324244181,\n",
    "  3.4344203785790337,\n",
    "  3.416726737170749,\n",
    "  3.4017402518802218,\n",
    "  3.387020494418674,\n",
    "  3.3755083185831705,\n",
    "  3.364240313635932,\n",
    "  3.354363308567471],\n",
    " [3.8837243381500244,\n",
    "  3.669478569030762,\n",
    "  3.588050753593445,\n",
    "  3.522890328216553,\n",
    "  3.492208413696289,\n",
    "  3.4554949699401853,\n",
    "  3.435982433128357,\n",
    "  3.4159389377593996,\n",
    "  3.4012541484832766,\n",
    "  3.3922290019989014,\n",
    "  3.381755703544617,\n",
    "  3.3686582359313966,\n",
    "  3.364826725578308,\n",
    "  3.3517054290771484,\n",
    "  3.344561079216003])"
   ]
  },
  {
   "cell_type": "code",
   "execution_count": 14,
   "metadata": {},
   "outputs": [],
   "source": [
    "a = [3.8373831869125365,\n",
    "  3.5927175075531004,\n",
    "  3.5031064222335817,\n",
    "  3.443180693435669,\n",
    "  3.4116617540359497,\n",
    "  3.387208477973938,\n",
    "  3.362659523963928,\n",
    "  3.3494730602264404,\n",
    "  3.3324638856887816,\n",
    "  3.3229802640914916,\n",
    "  3.3158617279052733,\n",
    "  3.3066658948898318,\n",
    "  3.2975340688705446,\n",
    "  3.287569703865051,\n",
    "  3.2815385608673098]"
   ]
  },
  {
   "cell_type": "code",
   "execution_count": 15,
   "metadata": {},
   "outputs": [
    {
     "data": {
      "text/plain": [
       "20.085536923187668"
      ]
     },
     "execution_count": 15,
     "metadata": {},
     "output_type": "execute_result"
    }
   ],
   "source": [
    "import math\n",
    "\n",
    "math.exp(3)"
   ]
  },
  {
   "cell_type": "code",
   "execution_count": 16,
   "metadata": {},
   "outputs": [
    {
     "name": "stdout",
     "output_type": "stream",
     "text": [
      "(1, 46.403885127011236)\n",
      "(2, 36.332676214320756)\n",
      "(3, 33.21848248023084)\n",
      "(4, 31.286312245101627)\n",
      "(5, 30.31557946197708)\n",
      "(6, 29.583254591081086)\n",
      "(7, 28.865858326555315)\n",
      "(8, 28.48771837617349)\n",
      "(9, 28.00726345632081)\n",
      "(10, 27.742908669424494)\n",
      "(11, 27.54612102114138)\n",
      "(12, 27.293972626149017)\n",
      "(13, 27.045863386113886)\n",
      "(14, 26.777706755456222)\n",
      "(15, 26.61669261458621)\n"
     ]
    }
   ],
   "source": [
    "for i, num in enumerate(a):\n",
    "    print(f\"({i+1}, {math.exp(num)})\")"
   ]
  },
  {
   "cell_type": "code",
   "execution_count": null,
   "metadata": {},
   "outputs": [],
   "source": []
  }
 ],
 "metadata": {
  "kernelspec": {
   "display_name": "Python 3",
   "language": "python",
   "name": "python3"
  },
  "language_info": {
   "codemirror_mode": {
    "name": "ipython",
    "version": 3
   },
   "file_extension": ".py",
   "mimetype": "text/x-python",
   "name": "python",
   "nbconvert_exporter": "python",
   "pygments_lexer": "ipython3",
   "version": "3.9.12"
  }
 },
 "nbformat": 4,
 "nbformat_minor": 4
}
