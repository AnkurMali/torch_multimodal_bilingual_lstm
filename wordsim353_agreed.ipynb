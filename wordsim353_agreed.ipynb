{
 "cells": [
  {
   "cell_type": "code",
   "execution_count": 1,
   "id": "e12c90a1-7a50-470f-b9ae-dd5d43ebe714",
   "metadata": {},
   "outputs": [],
   "source": [
    "import pandas as pd\n",
    "df = pd.read_csv('./data/wordsim353_agreed.txt', delimiter = \"\\t\", header=None)\n",
    "df.columns = ['n', 'word1', 'word2', 'org_sim']"
   ]
  },
  {
   "cell_type": "code",
   "execution_count": 2,
   "id": "f1340a9e-3e62-4a6e-b4bf-41f2345dc67d",
   "metadata": {},
   "outputs": [
    {
     "data": {
      "text/html": [
       "<div>\n",
       "<style scoped>\n",
       "    .dataframe tbody tr th:only-of-type {\n",
       "        vertical-align: middle;\n",
       "    }\n",
       "\n",
       "    .dataframe tbody tr th {\n",
       "        vertical-align: top;\n",
       "    }\n",
       "\n",
       "    .dataframe thead th {\n",
       "        text-align: right;\n",
       "    }\n",
       "</style>\n",
       "<table border=\"1\" class=\"dataframe\">\n",
       "  <thead>\n",
       "    <tr style=\"text-align: right;\">\n",
       "      <th></th>\n",
       "      <th>n</th>\n",
       "      <th>word1</th>\n",
       "      <th>word2</th>\n",
       "      <th>org_sim</th>\n",
       "    </tr>\n",
       "  </thead>\n",
       "  <tbody>\n",
       "    <tr>\n",
       "      <th>0</th>\n",
       "      <td>t</td>\n",
       "      <td>love</td>\n",
       "      <td>sex</td>\n",
       "      <td>6.77</td>\n",
       "    </tr>\n",
       "    <tr>\n",
       "      <th>1</th>\n",
       "      <td>h</td>\n",
       "      <td>tiger</td>\n",
       "      <td>cat</td>\n",
       "      <td>7.35</td>\n",
       "    </tr>\n",
       "    <tr>\n",
       "      <th>2</th>\n",
       "      <td>i</td>\n",
       "      <td>tiger</td>\n",
       "      <td>tiger</td>\n",
       "      <td>10.00</td>\n",
       "    </tr>\n",
       "    <tr>\n",
       "      <th>3</th>\n",
       "      <td>t</td>\n",
       "      <td>book</td>\n",
       "      <td>paper</td>\n",
       "      <td>7.46</td>\n",
       "    </tr>\n",
       "    <tr>\n",
       "      <th>4</th>\n",
       "      <td>M</td>\n",
       "      <td>computer</td>\n",
       "      <td>keyboard</td>\n",
       "      <td>7.62</td>\n",
       "    </tr>\n",
       "    <tr>\n",
       "      <th>...</th>\n",
       "      <td>...</td>\n",
       "      <td>...</td>\n",
       "      <td>...</td>\n",
       "      <td>...</td>\n",
       "    </tr>\n",
       "    <tr>\n",
       "      <th>347</th>\n",
       "      <td>t</td>\n",
       "      <td>shower</td>\n",
       "      <td>flood</td>\n",
       "      <td>6.03</td>\n",
       "    </tr>\n",
       "    <tr>\n",
       "      <th>348</th>\n",
       "      <td>t</td>\n",
       "      <td>weather</td>\n",
       "      <td>forecast</td>\n",
       "      <td>8.34</td>\n",
       "    </tr>\n",
       "    <tr>\n",
       "      <th>349</th>\n",
       "      <td>t</td>\n",
       "      <td>disaster</td>\n",
       "      <td>area</td>\n",
       "      <td>6.25</td>\n",
       "    </tr>\n",
       "    <tr>\n",
       "      <th>350</th>\n",
       "      <td>t</td>\n",
       "      <td>governor</td>\n",
       "      <td>office</td>\n",
       "      <td>6.34</td>\n",
       "    </tr>\n",
       "    <tr>\n",
       "      <th>351</th>\n",
       "      <td>t</td>\n",
       "      <td>architecture</td>\n",
       "      <td>century</td>\n",
       "      <td>3.78</td>\n",
       "    </tr>\n",
       "  </tbody>\n",
       "</table>\n",
       "<p>352 rows × 4 columns</p>\n",
       "</div>"
      ],
      "text/plain": [
       "     n         word1     word2  org_sim\n",
       "0    t          love       sex     6.77\n",
       "1    h         tiger       cat     7.35\n",
       "2    i         tiger     tiger    10.00\n",
       "3    t          book     paper     7.46\n",
       "4    M      computer  keyboard     7.62\n",
       "..  ..           ...       ...      ...\n",
       "347  t        shower     flood     6.03\n",
       "348  t       weather  forecast     8.34\n",
       "349  t      disaster      area     6.25\n",
       "350  t      governor    office     6.34\n",
       "351  t  architecture   century     3.78\n",
       "\n",
       "[352 rows x 4 columns]"
      ]
     },
     "execution_count": 2,
     "metadata": {},
     "output_type": "execute_result"
    }
   ],
   "source": [
    "df"
   ]
  },
  {
   "cell_type": "code",
   "execution_count": 3,
   "id": "dcbe8c66-1482-408e-8025-c371bfdea7cb",
   "metadata": {},
   "outputs": [],
   "source": [
    "# mm_model_path = 'multimodal_lstm_200000_1.0_15v6'#'multimodal_lstm_200000_1.0_15v5'##'multimodal_lstm_200000_0.7071067811865475_15v2'\n",
    "# bm_model_path = 'benchmark_model_200000_1.0_15v7'#benchmark_model_200000_1.0_15v6'#'benchmark_model_200000_0.7071067811865475_15v4'"
   ]
  },
  {
   "cell_type": "code",
   "execution_count": 4,
   "id": "3ce7a896-ed98-4cfb-b972-544da20b1b04",
   "metadata": {},
   "outputs": [],
   "source": [
    "mm_model_path = \"finetuned_multimodal_lstm\"#'multimodal_lstm_200000_1.0_15v6'#'multimodal_lstm_200000_1.0_15v5'##'multimodal_lstm_200000_0.7071067811865475_15v2'\n",
    "bm_model_path = 'finetuned_benchmark_lstm'#benchmark_model_200000_1.0_15v6'#'benchmark_model_200000_0.7071067811865475_15v4'"
   ]
  },
  {
   "cell_type": "code",
   "execution_count": 5,
   "id": "8b662e6b-44df-4fc7-936c-f636ea8d7381",
   "metadata": {},
   "outputs": [],
   "source": [
    "import torch\n",
    "device = 'cuda' if torch.cuda.is_available() else \"gpu\"\n",
    "from multimodal_model import BenchmarkLSTM, MMLSTM\n",
    "from multi_bpe import MultiBPE\n",
    "multi_bpe = MultiBPE()\n",
    "def load_model(loaded_model, is_benchmark, is_multimodal, train_visual_module):\n",
    "    if is_benchmark:\n",
    "        mm_model = BenchmarkLSTM().to(device)\n",
    "    else:\n",
    "        mm_model = MMLSTM(is_multimodal=is_multimodal,\n",
    "                     train_visual_module=train_visual_module).to(device)\n",
    "    \n",
    "    mm_model.load_state_dict(torch.load(f'./saved_models/{loaded_model}'))\n",
    "    mm_model.eval()\n",
    "    return mm_model\n",
    "\n",
    "mm_model = load_model(mm_model_path, False, True, False)\n",
    "bm_model = load_model(bm_model_path, True, False, False)"
   ]
  },
  {
   "cell_type": "code",
   "execution_count": 6,
   "id": "0f2c16a9-43e0-4ca6-97b9-a112fedadcb2",
   "metadata": {},
   "outputs": [],
   "source": [
    "def cosine_score(w1, w2, model, name='emb_layer.weight'):\n",
    "    tcs = torch.nn.CosineSimilarity(dim=1)\n",
    "    e1 = multi_bpe.encode(w1, False, False, None)\n",
    "    e2 = multi_bpe.encode(w2, False, False, None)\n",
    "    if len(e1) > 1 or len(e2) > 1:\n",
    "        a = model.state_dict()[name][e1[0]]\n",
    "        for idx in e1[1:]:\n",
    "            a = torch.concat((a, model.state_dict()[name][idx]))\n",
    "        b = model.state_dict()[name][e2[0]]\n",
    "        for idx in e2[1:]:\n",
    "            b = torch.concat((b, model.state_dict()[name][idx]))\n",
    "        return 999\n",
    "        return tcs(torch.tensor(a).view(1,-1),torch.tensor(b).view(1,-1)).item()\n",
    "    else:\n",
    "        a = model.state_dict()[name][e1[0]]\n",
    "        b = model.state_dict()[name][e2[0]]\n",
    "        return tcs(torch.tensor(a).view(1,-1),torch.tensor(b).view(1,-1)).item()\n",
    "\n",
    "def cosine_sim_model(df, model, name):\n",
    "    l = []    \n",
    "    for i in range(len(df)):\n",
    "        w1, w2 = df.word1[i], df.word2[i]\n",
    "        l.append(cosine_score(w1, w2, model, name))\n",
    "    return l"
   ]
  },
  {
   "cell_type": "code",
   "execution_count": 7,
   "id": "9a45f3fb-31f0-43cc-a86b-1720c85c4b84",
   "metadata": {},
   "outputs": [
    {
     "name": "stderr",
     "output_type": "stream",
     "text": [
      "<ipython-input-6-b642a3c19c31>:17: UserWarning: To copy construct from a tensor, it is recommended to use sourceTensor.clone().detach() or sourceTensor.clone().detach().requires_grad_(True), rather than torch.tensor(sourceTensor).\n",
      "  return tcs(torch.tensor(a).view(1,-1),torch.tensor(b).view(1,-1)).item()\n",
      "<ipython-input-6-b642a3c19c31>:17: UserWarning: To copy construct from a tensor, it is recommended to use sourceTensor.clone().detach() or sourceTensor.clone().detach().requires_grad_(True), rather than torch.tensor(sourceTensor).\n",
      "  return tcs(torch.tensor(a).view(1,-1),torch.tensor(b).view(1,-1)).item()\n"
     ]
    }
   ],
   "source": [
    "df['bm_sim'] = cosine_sim_model(df, bm_model, 'fc.weight')\n",
    "df['mm_sim'] = cosine_sim_model(df, mm_model, 'fc.weight')"
   ]
  },
  {
   "cell_type": "code",
   "execution_count": 8,
   "id": "31264469-7330-4dcd-a26b-0344a0d3193b",
   "metadata": {},
   "outputs": [
    {
     "data": {
      "text/html": [
       "<div>\n",
       "<style scoped>\n",
       "    .dataframe tbody tr th:only-of-type {\n",
       "        vertical-align: middle;\n",
       "    }\n",
       "\n",
       "    .dataframe tbody tr th {\n",
       "        vertical-align: top;\n",
       "    }\n",
       "\n",
       "    .dataframe thead th {\n",
       "        text-align: right;\n",
       "    }\n",
       "</style>\n",
       "<table border=\"1\" class=\"dataframe\">\n",
       "  <thead>\n",
       "    <tr style=\"text-align: right;\">\n",
       "      <th></th>\n",
       "      <th>n</th>\n",
       "      <th>word1</th>\n",
       "      <th>word2</th>\n",
       "      <th>org_sim</th>\n",
       "      <th>bm_sim</th>\n",
       "      <th>mm_sim</th>\n",
       "    </tr>\n",
       "  </thead>\n",
       "  <tbody>\n",
       "    <tr>\n",
       "      <th>0</th>\n",
       "      <td>t</td>\n",
       "      <td>love</td>\n",
       "      <td>sex</td>\n",
       "      <td>6.77</td>\n",
       "      <td>0.825354</td>\n",
       "      <td>0.839019</td>\n",
       "    </tr>\n",
       "    <tr>\n",
       "      <th>1</th>\n",
       "      <td>h</td>\n",
       "      <td>tiger</td>\n",
       "      <td>cat</td>\n",
       "      <td>7.35</td>\n",
       "      <td>0.862202</td>\n",
       "      <td>0.862343</td>\n",
       "    </tr>\n",
       "    <tr>\n",
       "      <th>2</th>\n",
       "      <td>i</td>\n",
       "      <td>tiger</td>\n",
       "      <td>tiger</td>\n",
       "      <td>10.00</td>\n",
       "      <td>1.000000</td>\n",
       "      <td>1.000000</td>\n",
       "    </tr>\n",
       "    <tr>\n",
       "      <th>3</th>\n",
       "      <td>t</td>\n",
       "      <td>book</td>\n",
       "      <td>paper</td>\n",
       "      <td>7.46</td>\n",
       "      <td>0.905169</td>\n",
       "      <td>0.893874</td>\n",
       "    </tr>\n",
       "    <tr>\n",
       "      <th>4</th>\n",
       "      <td>M</td>\n",
       "      <td>computer</td>\n",
       "      <td>keyboard</td>\n",
       "      <td>7.62</td>\n",
       "      <td>0.903217</td>\n",
       "      <td>0.906386</td>\n",
       "    </tr>\n",
       "    <tr>\n",
       "      <th>...</th>\n",
       "      <td>...</td>\n",
       "      <td>...</td>\n",
       "      <td>...</td>\n",
       "      <td>...</td>\n",
       "      <td>...</td>\n",
       "      <td>...</td>\n",
       "    </tr>\n",
       "    <tr>\n",
       "      <th>269</th>\n",
       "      <td>t</td>\n",
       "      <td>space</td>\n",
       "      <td>world</td>\n",
       "      <td>6.53</td>\n",
       "      <td>0.854344</td>\n",
       "      <td>0.853353</td>\n",
       "    </tr>\n",
       "    <tr>\n",
       "      <th>270</th>\n",
       "      <td>t</td>\n",
       "      <td>preservation</td>\n",
       "      <td>world</td>\n",
       "      <td>6.19</td>\n",
       "      <td>0.833557</td>\n",
       "      <td>0.845442</td>\n",
       "    </tr>\n",
       "    <tr>\n",
       "      <th>271</th>\n",
       "      <td>t</td>\n",
       "      <td>disaster</td>\n",
       "      <td>area</td>\n",
       "      <td>6.25</td>\n",
       "      <td>0.845204</td>\n",
       "      <td>0.837734</td>\n",
       "    </tr>\n",
       "    <tr>\n",
       "      <th>272</th>\n",
       "      <td>t</td>\n",
       "      <td>governor</td>\n",
       "      <td>office</td>\n",
       "      <td>6.34</td>\n",
       "      <td>0.822488</td>\n",
       "      <td>0.825813</td>\n",
       "    </tr>\n",
       "    <tr>\n",
       "      <th>273</th>\n",
       "      <td>t</td>\n",
       "      <td>architecture</td>\n",
       "      <td>century</td>\n",
       "      <td>3.78</td>\n",
       "      <td>0.875685</td>\n",
       "      <td>0.845782</td>\n",
       "    </tr>\n",
       "  </tbody>\n",
       "</table>\n",
       "<p>274 rows × 6 columns</p>\n",
       "</div>"
      ],
      "text/plain": [
       "     n         word1     word2  org_sim    bm_sim    mm_sim\n",
       "0    t          love       sex     6.77  0.825354  0.839019\n",
       "1    h         tiger       cat     7.35  0.862202  0.862343\n",
       "2    i         tiger     tiger    10.00  1.000000  1.000000\n",
       "3    t          book     paper     7.46  0.905169  0.893874\n",
       "4    M      computer  keyboard     7.62  0.903217  0.906386\n",
       "..  ..           ...       ...      ...       ...       ...\n",
       "269  t         space     world     6.53  0.854344  0.853353\n",
       "270  t  preservation     world     6.19  0.833557  0.845442\n",
       "271  t      disaster      area     6.25  0.845204  0.837734\n",
       "272  t      governor    office     6.34  0.822488  0.825813\n",
       "273  t  architecture   century     3.78  0.875685  0.845782\n",
       "\n",
       "[274 rows x 6 columns]"
      ]
     },
     "execution_count": 8,
     "metadata": {},
     "output_type": "execute_result"
    }
   ],
   "source": [
    "df = df[df.bm_sim != 999].reset_index(drop=True)\n",
    "df"
   ]
  },
  {
   "cell_type": "code",
   "execution_count": 9,
   "id": "84df0991-d861-47f9-9ddb-9e231f9c71de",
   "metadata": {},
   "outputs": [
    {
     "data": {
      "text/html": [
       "<div>\n",
       "<style scoped>\n",
       "    .dataframe tbody tr th:only-of-type {\n",
       "        vertical-align: middle;\n",
       "    }\n",
       "\n",
       "    .dataframe tbody tr th {\n",
       "        vertical-align: top;\n",
       "    }\n",
       "\n",
       "    .dataframe thead th {\n",
       "        text-align: right;\n",
       "    }\n",
       "</style>\n",
       "<table border=\"1\" class=\"dataframe\">\n",
       "  <thead>\n",
       "    <tr style=\"text-align: right;\">\n",
       "      <th></th>\n",
       "      <th>org_sim</th>\n",
       "      <th>bm_sim</th>\n",
       "      <th>mm_sim</th>\n",
       "    </tr>\n",
       "  </thead>\n",
       "  <tbody>\n",
       "    <tr>\n",
       "      <th>org_sim</th>\n",
       "      <td>1.000000</td>\n",
       "      <td>0.113767</td>\n",
       "      <td>0.079804</td>\n",
       "    </tr>\n",
       "    <tr>\n",
       "      <th>bm_sim</th>\n",
       "      <td>0.113767</td>\n",
       "      <td>1.000000</td>\n",
       "      <td>0.908737</td>\n",
       "    </tr>\n",
       "    <tr>\n",
       "      <th>mm_sim</th>\n",
       "      <td>0.079804</td>\n",
       "      <td>0.908737</td>\n",
       "      <td>1.000000</td>\n",
       "    </tr>\n",
       "  </tbody>\n",
       "</table>\n",
       "</div>"
      ],
      "text/plain": [
       "          org_sim    bm_sim    mm_sim\n",
       "org_sim  1.000000  0.113767  0.079804\n",
       "bm_sim   0.113767  1.000000  0.908737\n",
       "mm_sim   0.079804  0.908737  1.000000"
      ]
     },
     "execution_count": 9,
     "metadata": {},
     "output_type": "execute_result"
    }
   ],
   "source": [
    "df.corr(method='pearson')"
   ]
  },
  {
   "cell_type": "code",
   "execution_count": 10,
   "id": "7e4644a2-3261-43da-a5a6-0022deb0d848",
   "metadata": {},
   "outputs": [
    {
     "data": {
      "text/html": [
       "<div>\n",
       "<style scoped>\n",
       "    .dataframe tbody tr th:only-of-type {\n",
       "        vertical-align: middle;\n",
       "    }\n",
       "\n",
       "    .dataframe tbody tr th {\n",
       "        vertical-align: top;\n",
       "    }\n",
       "\n",
       "    .dataframe thead th {\n",
       "        text-align: right;\n",
       "    }\n",
       "</style>\n",
       "<table border=\"1\" class=\"dataframe\">\n",
       "  <thead>\n",
       "    <tr style=\"text-align: right;\">\n",
       "      <th></th>\n",
       "      <th>n</th>\n",
       "      <th>r</th>\n",
       "      <th>CI95%</th>\n",
       "      <th>p-val</th>\n",
       "    </tr>\n",
       "  </thead>\n",
       "  <tbody>\n",
       "    <tr>\n",
       "      <th>pearson</th>\n",
       "      <td>274</td>\n",
       "      <td>-0.056869</td>\n",
       "      <td>[-0.17, 0.06]</td>\n",
       "      <td>0.349237</td>\n",
       "    </tr>\n",
       "  </tbody>\n",
       "</table>\n",
       "</div>"
      ],
      "text/plain": [
       "           n         r          CI95%     p-val\n",
       "pearson  274 -0.056869  [-0.17, 0.06]  0.349237"
      ]
     },
     "execution_count": 10,
     "metadata": {},
     "output_type": "execute_result"
    }
   ],
   "source": [
    "import pingouin as pg\n",
    "\n",
    "#find partial correlation between hours and exam score while controlling for grade\n",
    "pg.partial_corr(data=df, x='mm_sim', y='org_sim', covar='bm_sim')"
   ]
  },
  {
   "cell_type": "code",
   "execution_count": 11,
   "id": "073a2bd5-98ee-4239-bf26-1ded7ea865ad",
   "metadata": {},
   "outputs": [
    {
     "data": {
      "text/plain": [
       "0.023434711056"
      ]
     },
     "execution_count": 11,
     "metadata": {},
     "output_type": "execute_result"
    }
   ],
   "source": [
    "0.153084**2"
   ]
  },
  {
   "cell_type": "code",
   "execution_count": 12,
   "id": "aa79a2f2-b636-4e76-b8b7-963e65839311",
   "metadata": {},
   "outputs": [
    {
     "data": {
      "text/plain": [
       "0.038151855625"
      ]
     },
     "execution_count": 12,
     "metadata": {},
     "output_type": "execute_result"
    }
   ],
   "source": [
    "0.195325**2"
   ]
  },
  {
   "cell_type": "code",
   "execution_count": 13,
   "id": "c704da53-a77d-45b3-a040-f306e8006c31",
   "metadata": {},
   "outputs": [
    {
     "data": {
      "text/plain": [
       "0.030260689936"
      ]
     },
     "execution_count": 13,
     "metadata": {},
     "output_type": "execute_result"
    }
   ],
   "source": [
    "0.173956**2"
   ]
  },
  {
   "cell_type": "code",
   "execution_count": null,
   "id": "4bdb6447-34f7-4fe1-814f-a2fcbc3f25b7",
   "metadata": {},
   "outputs": [],
   "source": []
  }
 ],
 "metadata": {
  "kernelspec": {
   "display_name": "Python 3",
   "language": "python",
   "name": "python3"
  },
  "language_info": {
   "codemirror_mode": {
    "name": "ipython",
    "version": 3
   },
   "file_extension": ".py",
   "mimetype": "text/x-python",
   "name": "python",
   "nbconvert_exporter": "python",
   "pygments_lexer": "ipython3",
   "version": "3.9.12"
  }
 },
 "nbformat": 4,
 "nbformat_minor": 5
}
