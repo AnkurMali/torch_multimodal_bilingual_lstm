{
 "cells": [
  {
   "cell_type": "code",
   "execution_count": 1,
   "metadata": {},
   "outputs": [],
   "source": [
    "import torch\n",
    "import pandas as pd\n",
    "import numpy as np\n",
    "import random\n",
    "import torch.nn as nn\n",
    "from torch.autograd import Variable\n",
    "from torch.nn import Parameter\n",
    "from torch import Tensor\n",
    "import torch.nn.functional as F\n",
    "import matplotlib.image as img\n",
    "import matplotlib.pyplot as plt\n",
    "import torchvision\n",
    "import PIL\n",
    "import math\n",
    "import datetime\n",
    "import os\n",
    "from bpemb import BPEmb\n",
    "from torch import nn\n",
    "from image_caption_dataset import ImageCaptionDataset\n",
    "from multi_bpe import MultiBPE\n",
    "from multimodal_model import MMLSTM, BenchmarkLSTM\n",
    "from torch.utils.data import DataLoader\n",
    "from tqdm import tqdm\n",
    "import transformers\n",
    "from keras_nlp.metrics import Perplexity"
   ]
  },
  {
   "cell_type": "code",
   "execution_count": 2,
   "metadata": {},
   "outputs": [],
   "source": [
    "device = 'cuda' if torch.cuda.is_available() else 'cpu'\n",
    "LOAD_PATH = './data/'\n",
    "seed = 420\n",
    "num_data = 200000\n",
    "maxlen = 32\n",
    "epochs = 15\n",
    "train_pct = 0.8\n",
    "bs=32\n",
    "lr = 1.0/math.sqrt(32/bs)\n",
    "is_multimodal=True\n",
    "train_visual_module=False"
   ]
  },
  {
   "cell_type": "code",
   "execution_count": 3,
   "metadata": {},
   "outputs": [],
   "source": [
    "torch.manual_seed(seed)\n",
    "# torch.cuda.manual_seed(seed)\n",
    "# torch.cuda.manual_seed_all(seed)  # if you are using multi-GPU.\n",
    "np.random.seed(seed)  # Numpy module.\n",
    "random.seed(seed)  # Python random module.\n",
    "# torch.backends.cudnn.benchmark = False\n",
    "# torch.backends.cudnn.deterministic = True"
   ]
  },
  {
   "cell_type": "code",
   "execution_count": 4,
   "metadata": {},
   "outputs": [],
   "source": [
    "def save_checkpoint(epoch, \n",
    "                    model, \n",
    "                    optimizer, \n",
    "                    scheduler,\n",
    "                    loss,\n",
    "                    FNAME):\n",
    "    \n",
    "    today = datetime.date.today()\n",
    "    PATH = f'./checkpoints/{today.strftime(\"checkpoint-%m-%d-%Y\")}/'\n",
    "    if not os.path.exists(PATH):\n",
    "        os.makedirs(PATH)\n",
    "    torch.save({\n",
    "            'epoch': epoch,\n",
    "            'model_state_dict': model.state_dict(),\n",
    "            'optimizer_state_dict': optimizer.state_dict(),\n",
    "            'scheduler_state_dict': scheduler.state_dict() if scheduler !=None else None,\n",
    "            'loss': loss,\n",
    "            }, f'{PATH}{FNAME}')"
   ]
  },
  {
   "cell_type": "code",
   "execution_count": 5,
   "metadata": {
    "jupyter": {
     "source_hidden": true
    },
    "tags": []
   },
   "outputs": [],
   "source": [
    "df = pd.read_csv(LOAD_PATH + 'ml_stacked_data.csv')"
   ]
  },
  {
   "cell_type": "code",
   "execution_count": 6,
   "metadata": {
    "jupyter": {
     "source_hidden": true
    },
    "tags": []
   },
   "outputs": [],
   "source": [
    "l = {}\n",
    "for caption in df.caption:\n",
    "    length = len(caption.split())\n",
    "    if length in l:\n",
    "        l[length] += 1  \n",
    "    else:\n",
    "        l[length] = 0"
   ]
  },
  {
   "cell_type": "code",
   "execution_count": 7,
   "metadata": {
    "collapsed": true,
    "jupyter": {
     "outputs_hidden": true,
     "source_hidden": true
    },
    "tags": []
   },
   "outputs": [
    {
     "data": {
      "text/plain": [
       "{11: 31894,\n",
       " 14: 9235,\n",
       " 18: 1305,\n",
       " 8: 25591,\n",
       " 12: 22805,\n",
       " 13: 14901,\n",
       " 10: 39529,\n",
       " 9: 37084,\n",
       " 16: 3337,\n",
       " 7: 3297,\n",
       " 15: 5511,\n",
       " 19: 831,\n",
       " 6: 447,\n",
       " 21: 407,\n",
       " 17: 2048,\n",
       " 26: 89,\n",
       " 20: 597,\n",
       " 23: 192,\n",
       " 5: 38,\n",
       " 24: 140,\n",
       " 25: 100,\n",
       " 36: 7,\n",
       " 22: 273,\n",
       " 30: 32,\n",
       " 28: 44,\n",
       " 27: 59,\n",
       " 33: 12,\n",
       " 32: 24,\n",
       " 34: 13,\n",
       " 38: 5,\n",
       " 37: 7,\n",
       " 48: 5,\n",
       " 29: 25,\n",
       " 39: 11,\n",
       " 31: 21,\n",
       " 42: 4,\n",
       " 41: 5,\n",
       " 47: 1,\n",
       " 4: 2,\n",
       " 40: 5,\n",
       " 52: 2,\n",
       " 35: 6,\n",
       " 45: 4,\n",
       " 43: 2,\n",
       " 44: 2,\n",
       " 49: 0,\n",
       " 2: 0,\n",
       " 46: 0,\n",
       " 59: 0,\n",
       " 3: 0,\n",
       " 53: 0}"
      ]
     },
     "execution_count": 7,
     "metadata": {},
     "output_type": "execute_result"
    }
   ],
   "source": [
    "l"
   ]
  },
  {
   "cell_type": "code",
   "execution_count": 8,
   "metadata": {
    "jupyter": {
     "source_hidden": true
    },
    "tags": []
   },
   "outputs": [],
   "source": [
    "def load_latest_checkpoint(PATH, model, optimizer, scheduler):\n",
    "    checkpoint = torch.load(PATH)\n",
    "    model.load_state_dict(checkpoint['model_state_dict'])\n",
    "    optimizer.load_state_dict(checkpoint['optimizer_state_dict'])\n",
    "    epoch = checkpoint['epoch']\n",
    "    loss = checkpoint['loss']\n",
    "    scheduler.load_state_dict(checkpoint['scheduler_state_dict'])\n",
    "    return epoch, loss"
   ]
  },
  {
   "cell_type": "code",
   "execution_count": 9,
   "metadata": {},
   "outputs": [],
   "source": [
    "def _init_fn(worker_id):\n",
    "    np.random.seed(int(seed))\n",
    "    \n",
    "def process_img(image_path): \n",
    "    transform = torchvision.transforms.Compose([\n",
    "        # Resize image to 224 x 224 as required by most vision models\n",
    "        torchvision.transforms.Resize(\n",
    "            size=(224, 224)\n",
    "        ),\n",
    "        # Convert PIL image to tensor with image values in [0, 1]\n",
    "        torchvision.transforms.ToTensor(),\n",
    "\n",
    "        torchvision.transforms.Normalize(\n",
    "            mean=[0.485, 0.456, 0.406],\n",
    "            std=[0.229, 0.224, 0.225]\n",
    "        )\n",
    "    ])\n",
    "    \n",
    "    im = PIL.Image.open(image_path)\n",
    "    image = im.convert('RGB')\n",
    "    image = transform(image)\n",
    "    \n",
    "    return image.view(1, image.size(0), image.size(1), image.size(2))\n",
    "\n",
    "def get_dataset(tokenizer, path=LOAD_PATH, num_data = None, maxlen=64):\n",
    "    df = pd.read_csv(path + 'ml_stacked_data.csv')    \n",
    "    if num_data != None:\n",
    "        text_df = df[:num_data]\n",
    "    else:\n",
    "        text_df = df\n",
    "    dataset = ImageCaptionDataset(text_df, tokenizer, maxlen=maxlen)\n",
    "\n",
    "    return dataset\n",
    "\n",
    "def train(ml_model, \n",
    "          epochs, \n",
    "          train_data, \n",
    "          val_data, \n",
    "          loss_fct, \n",
    "          optimizer,\n",
    "          scheduler = None,\n",
    "          clip=2.0):\n",
    "    epoch_train_losses = []\n",
    "    epoch_val_losses = []\n",
    "    perplexities = []\n",
    "    for epoch in range(epochs):\n",
    "        print(optimizer.param_groups[0][\"lr\"])\n",
    "        ml_model.train()\n",
    "        epoch_train_loss, num_train_steps = 0, 0\n",
    "        for i, batch in enumerate(tqdm(train_data)):\n",
    "            text, img, target = batch['input_ids'].to(device), batch['image'].to(device), batch['label_ids'].to(device)\n",
    "            output = ml_model(text, img)\n",
    "            ml_model.zero_grad()\n",
    "            loss = loss_fct(output.view(-1, 320001), target.view(-1))\n",
    "            loss.backward()\n",
    "            \n",
    "            torch.nn.utils.clip_grad_norm_(ml_model.parameters(), clip)\n",
    "            optimizer.step()\n",
    "            if scheduler is not None:\n",
    "                scheduler.step()\n",
    "            epoch_train_loss += loss.item()\n",
    "            num_train_steps += 1\n",
    "            \n",
    "            if i % 2000 == 1:\n",
    "                print(\"Current train loss:\", epoch_train_loss/num_train_steps)\n",
    "        current_train_loss = epoch_train_loss/len(train_data)\n",
    "        epoch_train_losses.append(current_train_loss)\n",
    "        \n",
    "        ml_model.eval()\n",
    "        epoch_val_loss = 0\n",
    "        for i, batch in enumerate(tqdm(val_data)):\n",
    "            text, img, target = batch['input_ids'].to(device), batch['image'].to(device), batch['label_ids'].to(device)\n",
    "            \n",
    "            with torch.no_grad():\n",
    "                output = ml_model(text, img)\n",
    "                loss = loss_fct(output.view(-1, output.size(-1)), target.view(-1))\n",
    "               \n",
    "            epoch_val_loss += loss.item()\n",
    "            \n",
    "        current_val_loss = epoch_val_loss/len(val_data)\n",
    "        epoch_val_losses.append(current_val_loss)\n",
    "        perplexity = math.exp(current_val_loss)\n",
    "        \n",
    "        if len(perplexities) == 0:\n",
    "            perplexities.append(perplexity)\n",
    "        else:\n",
    "            if perplexity >= (3 * perplexities[-1]):\n",
    "                for g in torch.optim.param_groups:\n",
    "                    g['lr'] = g['lr']/2\n",
    "            perplexities.append(perplexity)\n",
    "            \n",
    "        print(f\"Epoch {epoch}:\\nTrain Loss: {current_train_loss}\\nVal loss: {current_val_loss}\")\n",
    "\n",
    "#         print(\"=> Saving checkpoint...\")\n",
    "#         if is_multimodal:\n",
    "#             if train_visual_module:\n",
    "#                 FNAME = f'finetuned_visual_multimodal_lstm_{num_data}_{lr}_{epoch}-{current_val_loss:.2f}'\n",
    "#                 save_checkpoint(epoch, \n",
    "#                                 ml_model, \n",
    "#                                 optimizer, \n",
    "#                                 scheduler,\n",
    "#                                 current_val_loss,\n",
    "#                                 FNAME)\n",
    "#             else:\n",
    "#                 FNAME = f'multimodal_lstm_{num_data}_{lr}_{epoch}-{current_val_loss:.2f}'\n",
    "#                 save_checkpoint(epoch, \n",
    "#                                 ml_model, \n",
    "#                                 optimizer, \n",
    "#                                 scheduler,\n",
    "#                                 current_val_loss,\n",
    "#                                 FNAME)\n",
    "\n",
    "#         else:\n",
    "#             FNAME = f'benchmark_model_{num_data}_{lr}_{epoch}-{current_val_loss:.2f}'\n",
    "#             save_checkpoint(epoch, \n",
    "#                             ml_model, \n",
    "#                             optimizer, \n",
    "#                             scheduler,\n",
    "#                             current_val_loss,\n",
    "#                             FNAME)\n",
    "    return epoch_train_losses, epoch_val_losses"
   ]
  },
  {
   "cell_type": "code",
   "execution_count": 10,
   "metadata": {},
   "outputs": [
    {
     "name": "stdout",
     "output_type": "stream",
     "text": [
      "1.0\n"
     ]
    },
    {
     "name": "stderr",
     "output_type": "stream",
     "text": [
      "  0%|          | 2/5000 [00:00<29:43,  2.80it/s]"
     ]
    },
    {
     "name": "stdout",
     "output_type": "stream",
     "text": [
      "Current train loss: 12.661616802215576\n"
     ]
    },
    {
     "name": "stderr",
     "output_type": "stream",
     "text": [
      " 40%|████      | 2002/5000 [09:54<14:55,  3.35it/s]"
     ]
    },
    {
     "name": "stdout",
     "output_type": "stream",
     "text": [
      "Current train loss: 4.896476965565067\n"
     ]
    },
    {
     "name": "stderr",
     "output_type": "stream",
     "text": [
      " 80%|████████  | 4002/5000 [19:48<04:53,  3.40it/s]"
     ]
    },
    {
     "name": "stdout",
     "output_type": "stream",
     "text": [
      "Current train loss: 4.24222665408562\n"
     ]
    },
    {
     "name": "stderr",
     "output_type": "stream",
     "text": [
      "100%|██████████| 5000/5000 [24:44<00:00,  3.37it/s]\n",
      "100%|██████████| 625/625 [02:31<00:00,  4.14it/s]\n"
     ]
    },
    {
     "name": "stdout",
     "output_type": "stream",
     "text": [
      "Epoch 0:\n",
      "Train Loss: 4.05910000834465\n",
      "Val loss: 3.161041009902954\n",
      "1.0\n"
     ]
    },
    {
     "name": "stderr",
     "output_type": "stream",
     "text": [
      "  0%|          | 2/5000 [00:00<25:32,  3.26it/s]"
     ]
    },
    {
     "name": "stdout",
     "output_type": "stream",
     "text": [
      "Current train loss: 3.2082626819610596\n"
     ]
    },
    {
     "name": "stderr",
     "output_type": "stream",
     "text": [
      " 40%|████      | 2002/5000 [09:54<14:57,  3.34it/s]"
     ]
    },
    {
     "name": "stdout",
     "output_type": "stream",
     "text": [
      "Current train loss: 3.1361558980398723\n"
     ]
    },
    {
     "name": "stderr",
     "output_type": "stream",
     "text": [
      " 80%|████████  | 4002/5000 [19:48<04:54,  3.39it/s]"
     ]
    },
    {
     "name": "stdout",
     "output_type": "stream",
     "text": [
      "Current train loss: 3.0756328315034263\n"
     ]
    },
    {
     "name": "stderr",
     "output_type": "stream",
     "text": [
      "100%|██████████| 5000/5000 [24:45<00:00,  3.37it/s]\n",
      "100%|██████████| 625/625 [02:31<00:00,  4.12it/s]\n"
     ]
    },
    {
     "name": "stdout",
     "output_type": "stream",
     "text": [
      "Epoch 1:\n",
      "Train Loss: 3.047209130334854\n",
      "Val loss: 2.813968430328369\n",
      "1.0\n"
     ]
    },
    {
     "name": "stderr",
     "output_type": "stream",
     "text": [
      "  0%|          | 2/5000 [00:00<25:16,  3.30it/s]"
     ]
    },
    {
     "name": "stdout",
     "output_type": "stream",
     "text": [
      "Current train loss: 2.783403992652893\n"
     ]
    },
    {
     "name": "stderr",
     "output_type": "stream",
     "text": [
      " 40%|████      | 2002/5000 [09:54<14:51,  3.36it/s]"
     ]
    },
    {
     "name": "stdout",
     "output_type": "stream",
     "text": [
      "Current train loss: 2.8508966820580617\n"
     ]
    },
    {
     "name": "stderr",
     "output_type": "stream",
     "text": [
      " 80%|████████  | 4002/5000 [19:49<04:57,  3.36it/s]"
     ]
    },
    {
     "name": "stdout",
     "output_type": "stream",
     "text": [
      "Current train loss: 2.820929088335166\n"
     ]
    },
    {
     "name": "stderr",
     "output_type": "stream",
     "text": [
      "100%|██████████| 5000/5000 [24:46<00:00,  3.36it/s]\n",
      "100%|██████████| 625/625 [02:31<00:00,  4.12it/s]\n"
     ]
    },
    {
     "name": "stdout",
     "output_type": "stream",
     "text": [
      "Epoch 2:\n",
      "Train Loss: 2.8076358087539672\n",
      "Val loss: 2.674389543533325\n",
      "1.0\n"
     ]
    },
    {
     "name": "stderr",
     "output_type": "stream",
     "text": [
      "  0%|          | 2/5000 [00:00<25:22,  3.28it/s]"
     ]
    },
    {
     "name": "stdout",
     "output_type": "stream",
     "text": [
      "Current train loss: 2.685961127281189\n"
     ]
    },
    {
     "name": "stderr",
     "output_type": "stream",
     "text": [
      " 40%|████      | 2002/5000 [09:55<14:54,  3.35it/s]"
     ]
    },
    {
     "name": "stdout",
     "output_type": "stream",
     "text": [
      "Current train loss: 2.6943757485200117\n"
     ]
    },
    {
     "name": "stderr",
     "output_type": "stream",
     "text": [
      " 80%|████████  | 4002/5000 [19:52<04:54,  3.39it/s]"
     ]
    },
    {
     "name": "stdout",
     "output_type": "stream",
     "text": [
      "Current train loss: 2.6766548437931608\n"
     ]
    },
    {
     "name": "stderr",
     "output_type": "stream",
     "text": [
      "100%|██████████| 5000/5000 [24:49<00:00,  3.36it/s]\n",
      "100%|██████████| 625/625 [02:33<00:00,  4.07it/s]\n"
     ]
    },
    {
     "name": "stdout",
     "output_type": "stream",
     "text": [
      "Epoch 3:\n",
      "Train Loss: 2.671585415840149\n",
      "Val loss: 2.5785831508636474\n",
      "1.0\n"
     ]
    },
    {
     "name": "stderr",
     "output_type": "stream",
     "text": [
      "  0%|          | 2/5000 [00:00<25:34,  3.26it/s]"
     ]
    },
    {
     "name": "stdout",
     "output_type": "stream",
     "text": [
      "Current train loss: 2.2325196266174316\n"
     ]
    },
    {
     "name": "stderr",
     "output_type": "stream",
     "text": [
      " 40%|████      | 2002/5000 [10:00<15:03,  3.32it/s]"
     ]
    },
    {
     "name": "stdout",
     "output_type": "stream",
     "text": [
      "Current train loss: 2.589764584789981\n"
     ]
    },
    {
     "name": "stderr",
     "output_type": "stream",
     "text": [
      " 80%|████████  | 4002/5000 [20:00<04:58,  3.34it/s]"
     ]
    },
    {
     "name": "stdout",
     "output_type": "stream",
     "text": [
      "Current train loss: 2.58264017957023\n"
     ]
    },
    {
     "name": "stderr",
     "output_type": "stream",
     "text": [
      "100%|██████████| 5000/5000 [24:59<00:00,  3.33it/s]\n",
      "100%|██████████| 625/625 [02:33<00:00,  4.06it/s]\n"
     ]
    },
    {
     "name": "stdout",
     "output_type": "stream",
     "text": [
      "Epoch 4:\n",
      "Train Loss: 2.5797937920093537\n",
      "Val loss: 2.514091403579712\n",
      "1.0\n"
     ]
    },
    {
     "name": "stderr",
     "output_type": "stream",
     "text": [
      "  0%|          | 2/5000 [00:00<25:32,  3.26it/s]"
     ]
    },
    {
     "name": "stdout",
     "output_type": "stream",
     "text": [
      "Current train loss: 2.4148359298706055\n"
     ]
    },
    {
     "name": "stderr",
     "output_type": "stream",
     "text": [
      " 40%|████      | 2002/5000 [09:59<15:00,  3.33it/s]"
     ]
    },
    {
     "name": "stdout",
     "output_type": "stream",
     "text": [
      "Current train loss: 2.5091880094278585\n"
     ]
    },
    {
     "name": "stderr",
     "output_type": "stream",
     "text": [
      " 80%|████████  | 4002/5000 [20:01<04:58,  3.34it/s]"
     ]
    },
    {
     "name": "stdout",
     "output_type": "stream",
     "text": [
      "Current train loss: 2.5128862317474647\n"
     ]
    },
    {
     "name": "stderr",
     "output_type": "stream",
     "text": [
      "100%|██████████| 5000/5000 [24:59<00:00,  3.33it/s]\n",
      "100%|██████████| 625/625 [02:33<00:00,  4.06it/s]\n"
     ]
    },
    {
     "name": "stdout",
     "output_type": "stream",
     "text": [
      "Epoch 5:\n",
      "Train Loss: 2.509734126996994\n",
      "Val loss: 2.465382401275635\n",
      "1.0\n"
     ]
    },
    {
     "name": "stderr",
     "output_type": "stream",
     "text": [
      "  0%|          | 2/5000 [00:00<25:37,  3.25it/s]"
     ]
    },
    {
     "name": "stdout",
     "output_type": "stream",
     "text": [
      "Current train loss: 2.6227495670318604\n"
     ]
    },
    {
     "name": "stderr",
     "output_type": "stream",
     "text": [
      " 40%|████      | 2002/5000 [10:03<15:32,  3.22it/s]"
     ]
    },
    {
     "name": "stdout",
     "output_type": "stream",
     "text": [
      "Current train loss: 2.4609735205576015\n"
     ]
    },
    {
     "name": "stderr",
     "output_type": "stream",
     "text": [
      " 80%|████████  | 4002/5000 [20:04<04:55,  3.37it/s]"
     ]
    },
    {
     "name": "stdout",
     "output_type": "stream",
     "text": [
      "Current train loss: 2.4547252281792815\n"
     ]
    },
    {
     "name": "stderr",
     "output_type": "stream",
     "text": [
      "100%|██████████| 5000/5000 [25:02<00:00,  3.33it/s]\n",
      "100%|██████████| 625/625 [02:32<00:00,  4.11it/s]\n"
     ]
    },
    {
     "name": "stdout",
     "output_type": "stream",
     "text": [
      "Epoch 6:\n",
      "Train Loss: 2.4545627468824387\n",
      "Val loss: 2.4319754432678224\n",
      "1.0\n"
     ]
    },
    {
     "name": "stderr",
     "output_type": "stream",
     "text": [
      "  0%|          | 2/5000 [00:00<25:11,  3.31it/s]"
     ]
    },
    {
     "name": "stdout",
     "output_type": "stream",
     "text": [
      "Current train loss: 2.544795513153076\n"
     ]
    },
    {
     "name": "stderr",
     "output_type": "stream",
     "text": [
      " 40%|████      | 2002/5000 [09:56<14:47,  3.38it/s]"
     ]
    },
    {
     "name": "stdout",
     "output_type": "stream",
     "text": [
      "Current train loss: 2.41085917603124\n"
     ]
    },
    {
     "name": "stderr",
     "output_type": "stream",
     "text": [
      " 80%|████████  | 4002/5000 [19:53<05:00,  3.32it/s]"
     ]
    },
    {
     "name": "stdout",
     "output_type": "stream",
     "text": [
      "Current train loss: 2.411234011774001\n"
     ]
    },
    {
     "name": "stderr",
     "output_type": "stream",
     "text": [
      "100%|██████████| 5000/5000 [24:52<00:00,  3.35it/s]\n",
      "100%|██████████| 625/625 [02:31<00:00,  4.11it/s]\n"
     ]
    },
    {
     "name": "stdout",
     "output_type": "stream",
     "text": [
      "Epoch 7:\n",
      "Train Loss: 2.410029220175743\n",
      "Val loss: 2.3976976949691773\n",
      "1.0\n"
     ]
    },
    {
     "name": "stderr",
     "output_type": "stream",
     "text": [
      "  0%|          | 2/5000 [00:00<25:18,  3.29it/s]"
     ]
    },
    {
     "name": "stdout",
     "output_type": "stream",
     "text": [
      "Current train loss: 2.108996033668518\n"
     ]
    },
    {
     "name": "stderr",
     "output_type": "stream",
     "text": [
      " 40%|████      | 2002/5000 [09:57<14:52,  3.36it/s]"
     ]
    },
    {
     "name": "stdout",
     "output_type": "stream",
     "text": [
      "Current train loss: 2.3635367720158067\n"
     ]
    },
    {
     "name": "stderr",
     "output_type": "stream",
     "text": [
      " 80%|████████  | 4002/5000 [19:55<04:57,  3.35it/s]"
     ]
    },
    {
     "name": "stdout",
     "output_type": "stream",
     "text": [
      "Current train loss: 2.3707668482810482\n"
     ]
    },
    {
     "name": "stderr",
     "output_type": "stream",
     "text": [
      "100%|██████████| 5000/5000 [24:53<00:00,  3.35it/s]\n",
      "100%|██████████| 625/625 [02:32<00:00,  4.10it/s]\n"
     ]
    },
    {
     "name": "stdout",
     "output_type": "stream",
     "text": [
      "Epoch 8:\n",
      "Train Loss: 2.3715607931613922\n",
      "Val loss: 2.38222297668457\n",
      "1.0\n"
     ]
    },
    {
     "name": "stderr",
     "output_type": "stream",
     "text": [
      "  0%|          | 2/5000 [00:00<25:46,  3.23it/s]"
     ]
    },
    {
     "name": "stdout",
     "output_type": "stream",
     "text": [
      "Current train loss: 2.23163640499115\n"
     ]
    },
    {
     "name": "stderr",
     "output_type": "stream",
     "text": [
      " 40%|████      | 2002/5000 [09:56<14:50,  3.37it/s]"
     ]
    },
    {
     "name": "stdout",
     "output_type": "stream",
     "text": [
      "Current train loss: 2.3339185299692335\n"
     ]
    },
    {
     "name": "stderr",
     "output_type": "stream",
     "text": [
      " 80%|████████  | 4002/5000 [19:51<05:00,  3.32it/s]"
     ]
    },
    {
     "name": "stdout",
     "output_type": "stream",
     "text": [
      "Current train loss: 2.3397968494850416\n"
     ]
    },
    {
     "name": "stderr",
     "output_type": "stream",
     "text": [
      "100%|██████████| 5000/5000 [24:49<00:00,  3.36it/s]\n",
      "100%|██████████| 625/625 [02:32<00:00,  4.09it/s]\n"
     ]
    },
    {
     "name": "stdout",
     "output_type": "stream",
     "text": [
      "Epoch 9:\n",
      "Train Loss: 2.33947609603405\n",
      "Val loss: 2.355729240036011\n",
      "1.0\n"
     ]
    },
    {
     "name": "stderr",
     "output_type": "stream",
     "text": [
      "  0%|          | 2/5000 [00:00<25:16,  3.30it/s]"
     ]
    },
    {
     "name": "stdout",
     "output_type": "stream",
     "text": [
      "Current train loss: 2.169552505016327\n"
     ]
    },
    {
     "name": "stderr",
     "output_type": "stream",
     "text": [
      " 40%|████      | 2002/5000 [09:55<14:44,  3.39it/s]"
     ]
    },
    {
     "name": "stdout",
     "output_type": "stream",
     "text": [
      "Current train loss: 2.3037221312046525\n"
     ]
    },
    {
     "name": "stderr",
     "output_type": "stream",
     "text": [
      " 80%|████████  | 4002/5000 [19:49<04:55,  3.38it/s]"
     ]
    },
    {
     "name": "stdout",
     "output_type": "stream",
     "text": [
      "Current train loss: 2.3081037288960786\n"
     ]
    },
    {
     "name": "stderr",
     "output_type": "stream",
     "text": [
      "100%|██████████| 5000/5000 [24:46<00:00,  3.36it/s]\n",
      "100%|██████████| 625/625 [02:31<00:00,  4.12it/s]\n"
     ]
    },
    {
     "name": "stdout",
     "output_type": "stream",
     "text": [
      "Epoch 10:\n",
      "Train Loss: 2.3107679262161254\n",
      "Val loss: 2.331479719352722\n",
      "1.0\n"
     ]
    },
    {
     "name": "stderr",
     "output_type": "stream",
     "text": [
      "  0%|          | 2/5000 [00:00<25:04,  3.32it/s]"
     ]
    },
    {
     "name": "stdout",
     "output_type": "stream",
     "text": [
      "Current train loss: 2.2140849828720093\n"
     ]
    },
    {
     "name": "stderr",
     "output_type": "stream",
     "text": [
      " 40%|████      | 2002/5000 [09:52<14:50,  3.37it/s]"
     ]
    },
    {
     "name": "stdout",
     "output_type": "stream",
     "text": [
      "Current train loss: 2.276515412818897\n"
     ]
    },
    {
     "name": "stderr",
     "output_type": "stream",
     "text": [
      " 80%|████████  | 4002/5000 [19:46<04:55,  3.37it/s]"
     ]
    },
    {
     "name": "stdout",
     "output_type": "stream",
     "text": [
      "Current train loss: 2.28374005588277\n"
     ]
    },
    {
     "name": "stderr",
     "output_type": "stream",
     "text": [
      "100%|██████████| 5000/5000 [24:42<00:00,  3.37it/s]\n",
      "100%|██████████| 625/625 [02:31<00:00,  4.13it/s]\n"
     ]
    },
    {
     "name": "stdout",
     "output_type": "stream",
     "text": [
      "Epoch 11:\n",
      "Train Loss: 2.2846662587165834\n",
      "Val loss: 2.327339119338989\n",
      "1.0\n"
     ]
    },
    {
     "name": "stderr",
     "output_type": "stream",
     "text": [
      "  0%|          | 2/5000 [00:00<24:57,  3.34it/s]"
     ]
    },
    {
     "name": "stdout",
     "output_type": "stream",
     "text": [
      "Current train loss: 2.3561549186706543\n"
     ]
    },
    {
     "name": "stderr",
     "output_type": "stream",
     "text": [
      " 40%|████      | 2002/5000 [09:53<14:50,  3.37it/s]"
     ]
    },
    {
     "name": "stdout",
     "output_type": "stream",
     "text": [
      "Current train loss: 2.249010990370999\n"
     ]
    },
    {
     "name": "stderr",
     "output_type": "stream",
     "text": [
      " 80%|████████  | 4002/5000 [19:46<04:59,  3.34it/s]"
     ]
    },
    {
     "name": "stdout",
     "output_type": "stream",
     "text": [
      "Current train loss: 2.2598615006051737\n"
     ]
    },
    {
     "name": "stderr",
     "output_type": "stream",
     "text": [
      "100%|██████████| 5000/5000 [24:42<00:00,  3.37it/s]\n",
      "100%|██████████| 625/625 [02:30<00:00,  4.14it/s]\n"
     ]
    },
    {
     "name": "stdout",
     "output_type": "stream",
     "text": [
      "Epoch 12:\n",
      "Train Loss: 2.261883927178383\n",
      "Val loss: 2.323257204246521\n",
      "1.0\n"
     ]
    },
    {
     "name": "stderr",
     "output_type": "stream",
     "text": [
      "  0%|          | 2/5000 [00:00<25:04,  3.32it/s]"
     ]
    },
    {
     "name": "stdout",
     "output_type": "stream",
     "text": [
      "Current train loss: 2.308452010154724\n"
     ]
    },
    {
     "name": "stderr",
     "output_type": "stream",
     "text": [
      " 40%|████      | 2002/5000 [09:53<14:50,  3.37it/s]"
     ]
    },
    {
     "name": "stdout",
     "output_type": "stream",
     "text": [
      "Current train loss: 2.227920084923774\n"
     ]
    },
    {
     "name": "stderr",
     "output_type": "stream",
     "text": [
      " 80%|████████  | 4002/5000 [19:50<04:53,  3.40it/s]"
     ]
    },
    {
     "name": "stdout",
     "output_type": "stream",
     "text": [
      "Current train loss: 2.237965793206893\n"
     ]
    },
    {
     "name": "stderr",
     "output_type": "stream",
     "text": [
      "100%|██████████| 5000/5000 [24:45<00:00,  3.36it/s]\n",
      "100%|██████████| 625/625 [02:31<00:00,  4.13it/s]\n"
     ]
    },
    {
     "name": "stdout",
     "output_type": "stream",
     "text": [
      "Epoch 13:\n",
      "Train Loss: 2.240810235309601\n",
      "Val loss: 2.3015333766937256\n",
      "1.0\n"
     ]
    },
    {
     "name": "stderr",
     "output_type": "stream",
     "text": [
      "  0%|          | 2/5000 [00:00<25:14,  3.30it/s]"
     ]
    },
    {
     "name": "stdout",
     "output_type": "stream",
     "text": [
      "Current train loss: 2.2389070987701416\n"
     ]
    },
    {
     "name": "stderr",
     "output_type": "stream",
     "text": [
      " 40%|████      | 2002/5000 [09:52<14:40,  3.41it/s]"
     ]
    },
    {
     "name": "stdout",
     "output_type": "stream",
     "text": [
      "Current train loss: 2.2099995046824246\n"
     ]
    },
    {
     "name": "stderr",
     "output_type": "stream",
     "text": [
      " 80%|████████  | 4002/5000 [19:44<04:57,  3.35it/s]"
     ]
    },
    {
     "name": "stdout",
     "output_type": "stream",
     "text": [
      "Current train loss: 2.2186962259763003\n"
     ]
    },
    {
     "name": "stderr",
     "output_type": "stream",
     "text": [
      "100%|██████████| 5000/5000 [24:41<00:00,  3.38it/s]\n",
      "100%|██████████| 625/625 [02:31<00:00,  4.12it/s]"
     ]
    },
    {
     "name": "stdout",
     "output_type": "stream",
     "text": [
      "Epoch 14:\n",
      "Train Loss: 2.2235176665067673\n",
      "Val loss: 2.292942211151123\n"
     ]
    },
    {
     "name": "stderr",
     "output_type": "stream",
     "text": [
      "\n"
     ]
    },
    {
     "data": {
      "text/plain": [
       "([4.05910000834465,\n",
       "  3.047209130334854,\n",
       "  2.8076358087539672,\n",
       "  2.671585415840149,\n",
       "  2.5797937920093537,\n",
       "  2.509734126996994,\n",
       "  2.4545627468824387,\n",
       "  2.410029220175743,\n",
       "  2.3715607931613922,\n",
       "  2.33947609603405,\n",
       "  2.3107679262161254,\n",
       "  2.2846662587165834,\n",
       "  2.261883927178383,\n",
       "  2.240810235309601,\n",
       "  2.2235176665067673],\n",
       " [3.161041009902954,\n",
       "  2.813968430328369,\n",
       "  2.674389543533325,\n",
       "  2.5785831508636474,\n",
       "  2.514091403579712,\n",
       "  2.465382401275635,\n",
       "  2.4319754432678224,\n",
       "  2.3976976949691773,\n",
       "  2.38222297668457,\n",
       "  2.355729240036011,\n",
       "  2.331479719352722,\n",
       "  2.327339119338989,\n",
       "  2.323257204246521,\n",
       "  2.3015333766937256,\n",
       "  2.292942211151123])"
      ]
     },
     "execution_count": 10,
     "metadata": {},
     "output_type": "execute_result"
    }
   ],
   "source": [
    "multi_bpe = MultiBPE()\n",
    "all_data = get_dataset(tokenizer=multi_bpe, num_data=num_data,maxlen=maxlen)\n",
    "\n",
    "train_size = int(train_pct * len(all_data))\n",
    "test_size = len(all_data) - train_size\n",
    "train_dataset, val_test_dataset = torch.utils.data.random_split(all_data, [train_size, test_size])\n",
    "\n",
    "train_size = int(0.5 * len(val_test_dataset))\n",
    "test_size = len(val_test_dataset) - train_size\n",
    "val_dataset, test_dataset = torch.utils.data.random_split(val_test_dataset, [train_size, test_size])\n",
    "\n",
    "\n",
    "train_data = DataLoader(train_dataset, batch_size=bs, shuffle=True)\n",
    "val_data = DataLoader(val_dataset, batch_size=bs, shuffle=False)\n",
    "test_data = DataLoader(test_dataset, batch_size=bs, shuffle=False)\n",
    "\n",
    "# benchmark_model = BenchmarkLSTM().to(device)\n",
    "visual_multimodal_lstm = MMLSTM(is_multimodal=is_multimodal, \n",
    "                                      train_visual_module=train_visual_module).to(device)\n",
    "\n",
    "optimizer = torch.optim.SGD(visual_multimodal_lstm.parameters(), lr=lr)\n",
    "loss_fct = torch.nn.CrossEntropyLoss(ignore_index=320000, reduction='mean')\n",
    "\n",
    "# num_warmup_steps = (len(train_dataset) // bs)\n",
    "# num_training_steps = (len(train_dataset) // bs) * epochs\n",
    "# scheduler = transformers.get_linear_schedule_with_warmup(optimizer, \n",
    "#                                                          num_warmup_steps=num_warmup_steps, \n",
    "#                                                          num_training_steps=num_training_steps)\n",
    "# scheduler = transformers.get_constant_schedule_with_warmup(optimizer, \n",
    "#                                                          num_warmup_steps=num_warmup_steps) \n",
    "train(visual_multimodal_lstm, \n",
    "    epochs, \n",
    "    train_data, \n",
    "    val_data, \n",
    "    loss_fct, \n",
    "    optimizer,\n",
    "    scheduler=None)"
   ]
  },
  {
   "cell_type": "code",
   "execution_count": 11,
   "metadata": {},
   "outputs": [
    {
     "data": {
      "text/plain": [
       "'0.13.0+cu102'"
      ]
     },
     "execution_count": 11,
     "metadata": {},
     "output_type": "execute_result"
    }
   ],
   "source": [
    "torchvision.__version__"
   ]
  },
  {
   "cell_type": "markdown",
   "metadata": {},
   "source": [
    "Epoch 0:\n",
    "Train Loss: 4.454108733892441\n",
    "Val loss: 3.682773498916626\n",
    "0.7071067811865475\n",
    "  0%|          | 2/5000 [00:00<19:00,  4.38it/s]\n",
    "Current train loss: 3.5417309999465942\n",
    " 40%|████      | 2002/5000 [07:30<11:23,  4.39it/s]\n",
    "Current train loss: 3.650782839758889\n",
    " 80%|████████  | 4002/5000 [14:59<03:42,  4.48it/s]\n",
    "Current train loss: 3.593524467105093\n",
    "100%|██████████| 5000/5000 [18:42<00:00,  4.45it/s]\n",
    "100%|██████████| 625/625 [01:52<00:00,  5.55it/s]\n",
    "Epoch 1:\n",
    "Train Loss: 3.5651441644191744\n",
    "Val loss: 3.3736032577514647\n",
    "0.7071067811865475\n",
    "  0%|          | 2/5000 [00:00<19:49,  4.20it/s]\n",
    "Current train loss: 3.327363133430481\n",
    " 40%|████      | 2002/5000 [07:27<10:59,  4.54it/s]\n",
    "Current train loss: 3.3840376391158355\n",
    " 80%|████████  | 4002/5000 [14:55<03:46,  4.41it/s]\n",
    "Current train loss: 3.352826803103499\n",
    "100%|██████████| 5000/5000 [18:39<00:00,  4.46it/s]\n",
    "100%|██████████| 625/625 [01:53<00:00,  5.52it/s]\n",
    "Epoch 2:\n",
    "Train Loss: 3.3399432120323183\n",
    "Val loss: 3.2226122886657715\n",
    "0.7071067811865475\n",
    "  0%|          | 2/5000 [00:00<18:53,  4.41it/s]\n",
    "Current train loss: 3.6570446491241455\n",
    " 40%|████      | 2002/5000 [07:25<11:08,  4.49it/s]\n",
    "Current train loss: 3.238890047792669\n"
   ]
  },
  {
   "cell_type": "code",
   "execution_count": 12,
   "metadata": {},
   "outputs": [
    {
     "data": {
      "text/plain": [
       "([4.255402976131439,\n",
       "  3.378325371956825,\n",
       "  3.166072261953354,\n",
       "  3.0472596979379656,\n",
       "  2.968185928463936,\n",
       "  2.9084950731039045,\n",
       "  2.8601422364234925,\n",
       "  2.8210828330516815,\n",
       "  2.787460916996002,\n",
       "  2.7586146072626114,\n",
       "  2.7335047327280044,\n",
       "  2.7104552837371827,\n",
       "  2.6902655891776086,\n",
       "  2.6708284264326094,\n",
       "  2.6541572811841965],\n",
       " [3.490547196960449,\n",
       "  3.176377497291565,\n",
       "  3.0337498971939088,\n",
       "  2.952458595657349,\n",
       "  2.892481524276733,\n",
       "  2.8503320302963258,\n",
       "  2.813573787879944,\n",
       "  2.7869199739456176,\n",
       "  2.762750726890564,\n",
       "  2.7455632947921753,\n",
       "  2.731031491279602,\n",
       "  2.7182074075698854,\n",
       "  2.6980771926879883,\n",
       "  2.692284686756134,\n",
       "  2.676084305477142])"
      ]
     },
     "execution_count": 12,
     "metadata": {},
     "output_type": "execute_result"
    }
   ],
   "source": [
    "([4.255402976131439,\n",
    "  3.378325371956825,\n",
    "  3.166072261953354,\n",
    "  3.0472596979379656,\n",
    "  2.968185928463936,\n",
    "  2.9084950731039045,\n",
    "  2.8601422364234925,\n",
    "  2.8210828330516815,\n",
    "  2.787460916996002,\n",
    "  2.7586146072626114,\n",
    "  2.7335047327280044,\n",
    "  2.7104552837371827,\n",
    "  2.6902655891776086,\n",
    "  2.6708284264326094,\n",
    "  2.6541572811841965],\n",
    " [3.490547196960449,\n",
    "  3.176377497291565,\n",
    "  3.0337498971939088,\n",
    "  2.952458595657349,\n",
    "  2.892481524276733,\n",
    "  2.8503320302963258,\n",
    "  2.813573787879944,\n",
    "  2.7869199739456176,\n",
    "  2.762750726890564,\n",
    "  2.7455632947921753,\n",
    "  2.731031491279602,\n",
    "  2.7182074075698854,\n",
    "  2.6980771926879883,\n",
    "  2.692284686756134,\n",
    "  2.676084305477142])"
   ]
  },
  {
   "cell_type": "code",
   "execution_count": 13,
   "metadata": {},
   "outputs": [],
   "source": [
    "if is_multimodal:\n",
    "    if train_visual_module:\n",
    "        torch.save(visual_multimodal_lstm.state_dict(), \n",
    "                   f'./saved_models/finetuned_visual_multimodal_lstm_{num_data}_{lr}_{epochs}v5')\n",
    "    else:\n",
    "        torch.save(visual_multimodal_lstm.state_dict(), \n",
    "                   f'./saved_models/multimodal_lstm_{num_data}_{lr}_{epochs}v6')\n",
    "else:\n",
    "    torch.save(benchmark_model.state_dict(), \n",
    "               f'./saved_models/benchmark_model_{num_data}_{lr}_{epochs}v2')"
   ]
  },
  {
   "cell_type": "code",
   "execution_count": 14,
   "metadata": {},
   "outputs": [
    {
     "name": "stderr",
     "output_type": "stream",
     "text": [
      "100%|██████████| 625/625 [02:31<00:00,  4.12it/s]"
     ]
    },
    {
     "name": "stdout",
     "output_type": "stream",
     "text": [
      "Val loss: 2.2953844356536863\n",
      "Val perp: 9.928252052795216\n"
     ]
    },
    {
     "name": "stderr",
     "output_type": "stream",
     "text": [
      "\n"
     ]
    },
    {
     "data": {
      "text/plain": [
       "(2.2953844356536863, 9.928252052795216)"
      ]
     },
     "execution_count": 14,
     "metadata": {},
     "output_type": "execute_result"
    }
   ],
   "source": [
    "def test(ml_model, \n",
    "          epochs, \n",
    "          val_data, \n",
    "          loss_fct, \n",
    "          optimizer,\n",
    "          scheduler = None,\n",
    "          clip=2.0):\n",
    "    \n",
    "    ml_model.eval()\n",
    "    epoch_val_loss = 0\n",
    "    for i, batch in enumerate(tqdm(val_data)):\n",
    "        text, img, target = batch['input_ids'].to(device), batch['image'].to(device), batch['label_ids'].to(device)\n",
    "\n",
    "        with torch.no_grad():\n",
    "            output = ml_model(text, img)\n",
    "            loss = loss_fct(output.view(-1, output.size(-1)), target.view(-1))\n",
    "\n",
    "        epoch_val_loss += loss.item()\n",
    "\n",
    "    current_val_loss = epoch_val_loss/len(val_data)\n",
    "    perplexity = math.exp(current_val_loss)\n",
    "\n",
    "\n",
    "    print(f\"Val loss: {current_val_loss}\")\n",
    "    print(f\"Val perp: {perplexity}\")\n",
    "\n",
    "    return current_val_loss, perplexity\n",
    "\n",
    "test(visual_multimodal_lstm, \n",
    "    epochs, \n",
    "    test_data, \n",
    "    loss_fct, \n",
    "    optimizer,\n",
    "    scheduler=None)"
   ]
  },
  {
   "cell_type": "markdown",
   "metadata": {},
   "source": []
  }
 ],
 "metadata": {
  "kernelspec": {
   "display_name": "Python 3",
   "language": "python",
   "name": "python3"
  },
  "language_info": {
   "codemirror_mode": {
    "name": "ipython",
    "version": 3
   },
   "file_extension": ".py",
   "mimetype": "text/x-python",
   "name": "python",
   "nbconvert_exporter": "python",
   "pygments_lexer": "ipython3",
   "version": "3.9.12"
  }
 },
 "nbformat": 4,
 "nbformat_minor": 4
}
